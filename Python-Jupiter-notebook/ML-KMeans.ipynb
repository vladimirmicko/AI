{
 "cells": [
  {
   "cell_type": "code",
   "execution_count": 1,
   "metadata": {
    "collapsed": false
   },
   "outputs": [
    {
     "name": "stdout",
     "output_type": "stream",
     "text": [
      "(150, 5)\n",
      "(30, 5)\n",
      "(120, 5)\n",
      "[[ 6.74166667  3.175     ]\n",
      " [ 4.775       3.25      ]\n",
      " [ 5.83        2.67      ]]\n",
      "[0 0 0 0 1 2 0 0 1 0 2 2 0 2 1 0 1 2 1 2 1 2 2 0 0 2 0 1 1 2]\n"
     ]
    },
    {
     "data": {
      "image/png": "[encoded data removed]",
      "text/plain": [
       "<matplotlib.figure.Figure at 0x24bde776208>"
      ]
     },
     "metadata": {},
     "output_type": "display_data"
    }
   ],
   "source": [
    "import matplotlib.pyplot as plt\n",
    "from sklearn.cluster import KMeans\n",
    "import numpy as np\n",
    "from matplotlib import pyplot as plt\n",
    "import numpy as np\n",
    "from sklearn.datasets import load_iris\n",
    "\n",
    "data = load_iris()\n",
    "features = data.data\n",
    "feature_names = data.feature_names\n",
    "target = data.target\n",
    "target_names = data.target_names\n",
    "all=np.insert(features, 4, target, axis=1)\n",
    "print(all.shape)\n",
    "np.random.shuffle(all)\n",
    "training = all[:30]\n",
    "test = all[30:]\n",
    "randomized_training_features=training[:,:2]\n",
    "randomized_training_target=training[:,2]\n",
    "randomized_test_features=test[:,:2]\n",
    "randomized_test_target=test[:,2]\n",
    "\n",
    "print(training.shape)\n",
    "print(test.shape)\n",
    "x = KMeans(n_clusters = 3).fit(randomized_training_features)\n",
    "print(x.cluster_centers_)\n",
    "print(x.labels_)\n",
    "\n",
    "# plt.scatter(randomized_training_features[x.labels_==0,0], randomized_training_features[x.labels_==0,1], c='r')\n",
    "# plt.scatter(randomized_training_features[x.labels_==1,0], randomized_training_features[x.labels_==1,1], c='b')\n",
    "# plt.scatter(randomized_training_features[x.labels_==2,0], randomized_training_features[x.labels_==2,1], c='g')\n",
    "# plt.show()\n",
    "\n",
    "plt.figure()\n",
    "colors = ['navy', 'turquoise', 'darkorange']\n",
    "lw = 2\n",
    "\n",
    "for color, i, target_name in zip(colors, np.arange(0,3), target_names):\n",
    "    plt.scatter(randomized_training_features[x.labels_==i,0], randomized_training_features[x.labels_==i,1], \n",
    "                color=color, alpha=.8, lw=lw, label=target_name)\n",
    "plt.legend(loc='best', shadow=False, scatterpoints=1)\n",
    "plt.title('PCA of IRIS dataset')\n",
    "plt.show()"
   ]
  },
  {
   "cell_type": "code",
   "execution_count": null,
   "metadata": {
    "collapsed": true
   },
   "outputs": [],
   "source": []
  }
 ],
 "metadata": {
  "kernelspec": {
   "display_name": "Python 3",
   "language": "python",
   "name": "python3"
  },
  "language_info": {
   "codemirror_mode": {
    "name": "ipython",
    "version": 3
   },
   "file_extension": ".py",
   "mimetype": "text/x-python",
   "name": "python",
   "nbconvert_exporter": "python",
   "pygments_lexer": "ipython3",
   "version": "3.6.0"
  }
 },
 "nbformat": 4,
 "nbformat_minor": 2
}
