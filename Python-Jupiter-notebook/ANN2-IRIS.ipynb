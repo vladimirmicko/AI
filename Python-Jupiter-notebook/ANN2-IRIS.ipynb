{
 "cells": [
  {
   "cell_type": "code",
   "execution_count": 28,
   "metadata": {},
   "outputs": [
    {
     "name": "stdout",
     "output_type": "stream",
     "text": [
      "syn0:\n",
      "[[-0.16595599  0.44064899 -0.99977125 -0.39533485]\n",
      " [-0.70648822 -0.81532281 -0.62747958 -0.30887855]\n",
      " [-0.20646505  0.07763347 -0.16161097  0.370439  ]]\n",
      "syn1:\n",
      "[[-0.5910955 ]\n",
      " [ 0.75623487]\n",
      " [-0.94522481]\n",
      " [ 0.34093502]]\n",
      "Error:0.492666780106\n",
      "Error:0.00723662356792\n",
      "Error:0.00499080331527\n",
      "Error:0.00403116440946\n",
      "Error:0.00346884310215\n",
      "Error:0.00308916026656\n",
      "l0:\n",
      "[[0 0 1]\n",
      " [0 1 1]\n",
      " [1 0 1]\n",
      " [1 1 1]\n",
      " [1 1 0]\n",
      " [0 1 0]]\n",
      "syn0:\n",
      "[[ 3.60080169 -1.53444735 -6.89729834 -4.38356052]\n",
      " [-1.69969027  0.43488741 -5.51578828  2.08981052]\n",
      " [-5.59753828  2.34308882  3.29646292  6.7853767 ]]\n",
      "syn1:\n",
      "[[ -7.41953895]\n",
      " [  0.94815296]\n",
      " [-13.77442984]\n",
      " [  6.9479124 ]]\n",
      "l2:\n",
      "[[ 0.0040498 ]\n",
      " [ 0.99847508]\n",
      " [ 0.99690202]\n",
      " [ 0.99940462]\n",
      " [ 0.00375246]\n",
      " [ 0.99615457]]\n"
     ]
    }
   ],
   "source": [
    "import numpy as np\n",
    "\n",
    "def activationFunction(x):\n",
    "    return 1/(1+np.exp(-x))\n",
    "\n",
    "def derivative(x):\n",
    "    return x*(1-x)\n",
    "\n",
    "    \n",
    "X = np.array([[0,0,1],\n",
    "            [0,1,1],\n",
    "            [1,0,1],\n",
    "            [1,1,1],\n",
    "            [1,1,0],\n",
    "            [0,1,0]])\n",
    "                \n",
    "y = np.array([[0],\n",
    "            [1],\n",
    "            [1],\n",
    "            [1],\n",
    "            [0],\n",
    "            [1]])\n",
    "\n",
    "np.random.seed(1)\n",
    "\n",
    "# randomly initialize our weights with mean 0\n",
    "weights0 = 2*np.random.random((3,4)) - 1\n",
    "weights1 = 2*np.random.random((4,1)) - 1\n",
    "print(\"weights0:\")\n",
    "print(weights0)\n",
    "print(\"weights1:\")\n",
    "print(weights1)\n",
    "\n",
    "for j in range(60000):\n",
    "\n",
    "    # Feed forward through layers 0, 1, and 2\n",
    "    l0 = X\n",
    "    l1 = activationFunction(np.dot(l0,weights0))\n",
    "    l2 = activationFunction(np.dot(l1,weights1))\n",
    "\n",
    "    # how much did we miss the target value?\n",
    "    l2_error = y - l2\n",
    "    \n",
    "    if (j% 10000) == 0:\n",
    "        print (\"Error:\" + str(np.mean(np.abs(l2_error))))\n",
    "        \n",
    "    # in what direction is the target value?\n",
    "    # were we really sure? if so, don't change too much.\n",
    "    l2_delta = l2_error*derivative(l2)\n",
    "\n",
    "    # how much did each l1 value contribute to the l2 error (according to the weights)?\n",
    "    l1_error = l2_delta.dot(weights1.T)\n",
    "    \n",
    "    # in what direction is the target l1?\n",
    "    # were we really sure? if so, don't change too much.\n",
    "    l1_delta = l1_error * derivative(l1)\n",
    "\n",
    "    weights1 += l1.T.dot(l2_delta)\n",
    "    weights0 += l0.T.dot(l1_delta)\n",
    "    \n",
    "print(\"l0:\")\n",
    "print(l0)\n",
    "print(\"weights0:\")\n",
    "print(weights0)\n",
    "print(\"weights1:\")\n",
    "print(weights1)\n",
    "print(\"l2:\")\n",
    "print(l2)"
   ]
  },
  {
   "cell_type": "code",
   "execution_count": null,
   "metadata": {
    "collapsed": true
   },
   "outputs": [],
   "source": []
  },
  {
   "cell_type": "code",
   "execution_count": null,
   "metadata": {
    "collapsed": true
   },
   "outputs": [],
   "source": []
  },
  {
   "cell_type": "code",
   "execution_count": null,
   "metadata": {
    "collapsed": true
   },
   "outputs": [],
   "source": []
  },
  {
   "cell_type": "code",
   "execution_count": null,
   "metadata": {
    "collapsed": true
   },
   "outputs": [],
   "source": []
  },
  {
   "cell_type": "code",
   "execution_count": null,
   "metadata": {
    "collapsed": true
   },
   "outputs": [],
   "source": []
  },
  {
   "cell_type": "code",
   "execution_count": 2,
   "metadata": {},
   "outputs": [
    {
     "data": {
      "text/plain": [
       "array([[ 0.72631789,  0.21589152,  0.84580526,  0.4403287 ],\n",
       "       [ 0.14286982,  0.85554432,  0.10012286,  0.81904819],\n",
       "       [ 0.17174678,  0.88043508,  0.09835616,  0.80257419],\n",
       "       [ 0.01285639,  0.99372629,  0.00220778,  0.95899539]])"
      ]
     },
     "execution_count": 2,
     "metadata": {},
     "output_type": "execute_result"
    }
   ],
   "source": [
    "l1"
   ]
  },
  {
   "cell_type": "code",
   "execution_count": 24,
   "metadata": {},
   "outputs": [
    {
     "data": {
      "text/plain": [
       "array([[ 0.99738533]])"
      ]
     },
     "execution_count": 24,
     "metadata": {},
     "output_type": "execute_result"
    }
   ],
   "source": [
    "l0 = np.array([[0,1,0]])\n",
    "l1 = nonlin(np.dot(l0,syn0))\n",
    "l2 = nonlin(np.dot(l1,syn1))\n",
    "l2"
   ]
  },
  {
   "cell_type": "code",
   "execution_count": null,
   "metadata": {
    "collapsed": true
   },
   "outputs": [],
   "source": []
  }
 ],
 "metadata": {
  "kernelspec": {
   "display_name": "Python 3",
   "language": "python",
   "name": "python3"
  },
  "language_info": {
   "codemirror_mode": {
    "name": "ipython",
    "version": 3
   },
   "file_extension": ".py",
   "mimetype": "text/x-python",
   "name": "python",
   "nbconvert_exporter": "python",
   "pygments_lexer": "ipython3",
   "version": "3.6.3"
  }
 },
 "nbformat": 4,
 "nbformat_minor": 2
}
