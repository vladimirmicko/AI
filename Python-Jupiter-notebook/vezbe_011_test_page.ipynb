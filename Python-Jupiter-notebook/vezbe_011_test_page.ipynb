{
 "cells": [
  {
   "cell_type": "code",
   "execution_count": 2,
   "metadata": {
    "collapsed": true
   },
   "outputs": [],
   "source": [
    "from sklearn import datasets"
   ]
  },
  {
   "cell_type": "code",
   "execution_count": 3,
   "metadata": {
    "collapsed": true
   },
   "outputs": [],
   "source": [
    "%matplotlib inline"
   ]
  },
  {
   "cell_type": "code",
   "execution_count": 4,
   "metadata": {
    "collapsed": true
   },
   "outputs": [],
   "source": [
    "import sklearn as sk\n",
    "import numpy as np"
   ]
  },
  {
   "cell_type": "code",
   "execution_count": 5,
   "metadata": {
    "collapsed": true
   },
   "outputs": [],
   "source": [
    "import matplotlib.pyplot as plt"
   ]
  },
  {
   "cell_type": "code",
   "execution_count": 6,
   "metadata": {
    "collapsed": true
   },
   "outputs": [],
   "source": [
    "digits = datasets.load_digits()"
   ]
  },
  {
   "cell_type": "code",
   "execution_count": 7,
   "metadata": {
    "collapsed": true
   },
   "outputs": [],
   "source": [
    "X_digits = digits.data"
   ]
  },
  {
   "cell_type": "code",
   "execution_count": 8,
   "metadata": {
    "collapsed": true
   },
   "outputs": [],
   "source": [
    "y_digits = digits.target"
   ]
  },
  {
   "cell_type": "code",
   "execution_count": 9,
   "metadata": {
    "collapsed": false
   },
   "outputs": [
    {
     "data": {
      "text/plain": [
       "array([0, 1, 2, ..., 8, 9, 8])"
      ]
     },
     "execution_count": 9,
     "metadata": {},
     "output_type": "execute_result"
    }
   ],
   "source": [
    "y_digits"
   ]
  },
  {
   "cell_type": "code",
   "execution_count": 10,
   "metadata": {
    "collapsed": false
   },
   "outputs": [
    {
     "data": {
      "text/plain": [
       "(1797, 64)"
      ]
     },
     "execution_count": 10,
     "metadata": {},
     "output_type": "execute_result"
    }
   ],
   "source": [
    "X_digits.shape"
   ]
  },
  {
   "cell_type": "code",
   "execution_count": 11,
   "metadata": {
    "collapsed": false
   },
   "outputs": [
    {
     "name": "stdout",
     "output_type": "stream",
     "text": [
      "[False  True False ..., False False False]\n"
     ]
    }
   ],
   "source": [
    "ind1 = y_digits == 1 \n",
    "print(ind1)"
   ]
  },
  {
   "cell_type": "code",
   "execution_count": 12,
   "metadata": {
    "collapsed": false
   },
   "outputs": [
    {
     "name": "stdout",
     "output_type": "stream",
     "text": [
      "(array([   4,   14,   24,   41,   64,   68,   87,   97,  100,  110,  111,\n",
      "        121,  124,  134,  144,  154,  171,  194,  198,  225,  228,  238,\n",
      "        239,  247,  250,  260,  270,  280,  297,  320,  324,  343,  353,\n",
      "        356,  366,  367,  377,  380,  390,  400,  410,  427,  450,  454,\n",
      "        473,  483,  486,  496,  497,  507,  510,  520,  530,  540,  557,\n",
      "        580,  584,  603,  613,  616,  626,  627,  637,  640,  650,  660,\n",
      "        670,  687,  710,  714,  733,  743,  746,  756,  757,  767,  770,\n",
      "        780,  790,  800,  817,  840,  844,  863,  873,  876,  886,  887,\n",
      "        897,  900,  909,  919,  929,  946,  966,  970,  988,  998, 1001,\n",
      "       1011, 1012, 1022, 1023, 1033, 1043, 1053, 1070, 1091, 1095, 1114,\n",
      "       1124, 1127, 1137, 1138, 1148, 1151, 1161, 1171, 1181, 1198, 1221,\n",
      "       1225, 1244, 1254, 1257, 1267, 1268, 1278, 1281, 1291, 1301, 1311,\n",
      "       1328, 1351, 1355, 1374, 1384, 1387, 1397, 1398, 1408, 1411, 1419,\n",
      "       1429, 1439, 1456, 1479, 1483, 1502, 1512, 1515, 1525, 1526, 1536,\n",
      "       1539, 1549, 1559, 1567, 1584, 1607, 1611, 1628, 1638, 1641, 1651,\n",
      "       1652, 1660, 1661, 1671, 1681, 1691, 1708, 1731, 1735, 1754, 1764,\n",
      "       1767, 1777, 1778, 1788, 1791], dtype=int64),)\n"
     ]
    }
   ],
   "source": [
    "ind1 = np.where(y_digits==4)\n",
    "print(ind1)"
   ]
  },
  {
   "cell_type": "code",
   "execution_count": 13,
   "metadata": {
    "collapsed": false
   },
   "outputs": [
    {
     "data": {
      "text/plain": [
       "<matplotlib.image.AxesImage at 0x1a1f1b33240>"
      ]
     },
     "execution_count": 13,
     "metadata": {},
     "output_type": "execute_result"
    },
    {
     "data": {
      "image/png": "[encoded data removed]",
      "text/plain": [
       "<matplotlib.figure.Figure at 0x1a1f1a9f198>"
      ]
     },
     "metadata": {},
     "output_type": "display_data"
    }
   ],
   "source": [
    "plt.imshow(X_digits[1778].reshape((8,8)), cmap=plt.cm.gray_r)"
   ]
  },
  {
   "cell_type": "code",
   "execution_count": 14,
   "metadata": {
    "collapsed": false
   },
   "outputs": [],
   "source": [
    "ind0 = np.where(y_digits ==4 )"
   ]
  },
  {
   "cell_type": "code",
   "execution_count": 15,
   "metadata": {
    "collapsed": false
   },
   "outputs": [
    {
     "data": {
      "text/plain": [
       "<matplotlib.image.AxesImage at 0x1a1f1b77630>"
      ]
     },
     "execution_count": 15,
     "metadata": {},
     "output_type": "execute_result"
    },
    {
     "data": {
      "image/png": "[encoded data removed]",
      "text/plain": [
       "<matplotlib.figure.Figure at 0x1a1f1a9f860>"
      ]
     },
     "metadata": {},
     "output_type": "display_data"
    }
   ],
   "source": [
    "plt.imshow(X_digits[0].reshape((8,8)), cmap=plt.cm.gray_r)"
   ]
  },
  {
   "cell_type": "code",
   "execution_count": 16,
   "metadata": {
    "collapsed": true
   },
   "outputs": [],
   "source": [
    "xx = np.arange(64)"
   ]
  },
  {
   "cell_type": "code",
   "execution_count": 17,
   "metadata": {
    "collapsed": false
   },
   "outputs": [
    {
     "name": "stdout",
     "output_type": "stream",
     "text": [
      "[ 0  1  2  3  4  5  6  7  8  9 10 11 12 13 14 15 16 17 18 19 20 21 22 23 24\n",
      " 25 26 27 28 29 30 31 32 33 34 35 36 37 38 39 40 41 42 43 44 45 46 47 48 49\n",
      " 50 51 52 53 54 55 56 57 58 59 60 61 62 63]\n"
     ]
    }
   ],
   "source": [
    "print(xx)"
   ]
  },
  {
   "cell_type": "code",
   "execution_count": 18,
   "metadata": {
    "collapsed": false
   },
   "outputs": [],
   "source": [
    "xx = xx.reshape(8,8)"
   ]
  },
  {
   "cell_type": "code",
   "execution_count": 19,
   "metadata": {
    "collapsed": false
   },
   "outputs": [
    {
     "data": {
      "text/plain": [
       "array([[ 3,  4],\n",
       "       [11, 12],\n",
       "       [19, 20],\n",
       "       [27, 28],\n",
       "       [35, 36],\n",
       "       [43, 44],\n",
       "       [51, 52],\n",
       "       [59, 60]])"
      ]
     },
     "execution_count": 19,
     "metadata": {},
     "output_type": "execute_result"
    }
   ],
   "source": [
    "xx[:,3:5]"
   ]
  },
  {
   "cell_type": "code",
   "execution_count": 20,
   "metadata": {
    "collapsed": false
   },
   "outputs": [],
   "source": [
    "feature_1 = sum (xx[:,3:5])\n"
   ]
  },
  {
   "cell_type": "code",
   "execution_count": 21,
   "metadata": {
    "collapsed": false
   },
   "outputs": [
    {
     "data": {
      "text/plain": [
       "array([248, 256])"
      ]
     },
     "execution_count": 21,
     "metadata": {},
     "output_type": "execute_result"
    }
   ],
   "source": [
    "feature_1"
   ]
  },
  {
   "cell_type": "code",
   "execution_count": 22,
   "metadata": {
    "collapsed": false
   },
   "outputs": [],
   "source": [
    "feature_11 = sum(feature_1)"
   ]
  },
  {
   "cell_type": "code",
   "execution_count": 30,
   "metadata": {
    "collapsed": false
   },
   "outputs": [
    {
     "data": {
      "text/plain": [
       "<function __main__.feature_11>"
      ]
     },
     "execution_count": 30,
     "metadata": {},
     "output_type": "execute_result"
    }
   ],
   "source": [
    "feature_11"
   ]
  },
  {
   "cell_type": "code",
   "execution_count": 31,
   "metadata": {
    "collapsed": true
   },
   "outputs": [],
   "source": [
    "def feature_11(xx):\n",
    "    yy = xx.reshape(8,8)\n",
    "    feature_1 = sum (yy[0:2,:])\n",
    "    feature11 = sum(feature_1)\n",
    "    print (feature11)\n",
    "    return feature11"
   ]
  },
  {
   "cell_type": "code",
   "execution_count": 32,
   "metadata": {
    "collapsed": false
   },
   "outputs": [
    {
     "data": {
      "text/plain": [
       "(array([   4,   14,   24,   41,   64,   68,   87,   97,  100,  110,  111,\n",
       "         121,  124,  134,  144,  154,  171,  194,  198,  225,  228,  238,\n",
       "         239,  247,  250,  260,  270,  280,  297,  320,  324,  343,  353,\n",
       "         356,  366,  367,  377,  380,  390,  400,  410,  427,  450,  454,\n",
       "         473,  483,  486,  496,  497,  507,  510,  520,  530,  540,  557,\n",
       "         580,  584,  603,  613,  616,  626,  627,  637,  640,  650,  660,\n",
       "         670,  687,  710,  714,  733,  743,  746,  756,  757,  767,  770,\n",
       "         780,  790,  800,  817,  840,  844,  863,  873,  876,  886,  887,\n",
       "         897,  900,  909,  919,  929,  946,  966,  970,  988,  998, 1001,\n",
       "        1011, 1012, 1022, 1023, 1033, 1043, 1053, 1070, 1091, 1095, 1114,\n",
       "        1124, 1127, 1137, 1138, 1148, 1151, 1161, 1171, 1181, 1198, 1221,\n",
       "        1225, 1244, 1254, 1257, 1267, 1268, 1278, 1281, 1291, 1301, 1311,\n",
       "        1328, 1351, 1355, 1374, 1384, 1387, 1397, 1398, 1408, 1411, 1419,\n",
       "        1429, 1439, 1456, 1479, 1483, 1502, 1512, 1515, 1525, 1526, 1536,\n",
       "        1539, 1549, 1559, 1567, 1584, 1607, 1611, 1628, 1638, 1641, 1651,\n",
       "        1652, 1660, 1661, 1671, 1681, 1691, 1708, 1731, 1735, 1754, 1764,\n",
       "        1767, 1777, 1778, 1788, 1791], dtype=int64),)"
      ]
     },
     "execution_count": 32,
     "metadata": {},
     "output_type": "execute_result"
    }
   ],
   "source": [
    "ind1"
   ]
  },
  {
   "cell_type": "code",
   "execution_count": 33,
   "metadata": {
    "collapsed": false
   },
   "outputs": [
    {
     "name": "stdout",
     "output_type": "stream",
     "text": [
      "49.0\n"
     ]
    },
    {
     "data": {
      "text/plain": [
       "49.0"
      ]
     },
     "execution_count": 33,
     "metadata": {},
     "output_type": "execute_result"
    }
   ],
   "source": [
    "feature_11(X_digits[1778])"
   ]
  },
  {
   "cell_type": "code",
   "execution_count": 34,
   "metadata": {
    "collapsed": false
   },
   "outputs": [
    {
     "name": "stdout",
     "output_type": "stream",
     "text": [
      "84.0\n"
     ]
    },
    {
     "data": {
      "text/plain": [
       "84.0"
      ]
     },
     "execution_count": 34,
     "metadata": {},
     "output_type": "execute_result"
    }
   ],
   "source": [
    "feature_11(X_digits[147])"
   ]
  },
  {
   "cell_type": "code",
   "execution_count": 35,
   "metadata": {
    "collapsed": false
   },
   "outputs": [
    {
     "name": "stdout",
     "output_type": "stream",
     "text": [
      "51.0\n"
     ]
    },
    {
     "data": {
      "text/plain": [
       "51.0"
      ]
     },
     "execution_count": 35,
     "metadata": {},
     "output_type": "execute_result"
    }
   ],
   "source": [
    "feature_11(X_digits[887])"
   ]
  },
  {
   "cell_type": "code",
   "execution_count": 36,
   "metadata": {
    "collapsed": false
   },
   "outputs": [
    {
     "data": {
      "text/plain": [
       "tuple"
      ]
     },
     "execution_count": 36,
     "metadata": {},
     "output_type": "execute_result"
    }
   ],
   "source": [
    "type(ind0)"
   ]
  },
  {
   "cell_type": "code",
   "execution_count": 37,
   "metadata": {
    "collapsed": false
   },
   "outputs": [
    {
     "data": {
      "text/plain": [
       "array([   4,   14,   24,   41,   64,   68,   87,   97,  100,  110,  111,\n",
       "        121,  124,  134,  144,  154,  171,  194,  198,  225,  228,  238,\n",
       "        239,  247,  250,  260,  270,  280,  297,  320,  324,  343,  353,\n",
       "        356,  366,  367,  377,  380,  390,  400,  410,  427,  450,  454,\n",
       "        473,  483,  486,  496,  497,  507,  510,  520,  530,  540,  557,\n",
       "        580,  584,  603,  613,  616,  626,  627,  637,  640,  650,  660,\n",
       "        670,  687,  710,  714,  733,  743,  746,  756,  757,  767,  770,\n",
       "        780,  790,  800,  817,  840,  844,  863,  873,  876,  886,  887,\n",
       "        897,  900,  909,  919,  929,  946,  966,  970,  988,  998, 1001,\n",
       "       1011, 1012, 1022, 1023, 1033, 1043, 1053, 1070, 1091, 1095, 1114,\n",
       "       1124, 1127, 1137, 1138, 1148, 1151, 1161, 1171, 1181, 1198, 1221,\n",
       "       1225, 1244, 1254, 1257, 1267, 1268, 1278, 1281, 1291, 1301, 1311,\n",
       "       1328, 1351, 1355, 1374, 1384, 1387, 1397, 1398, 1408, 1411, 1419,\n",
       "       1429, 1439, 1456, 1479, 1483, 1502, 1512, 1515, 1525, 1526, 1536,\n",
       "       1539, 1549, 1559, 1567, 1584, 1607, 1611, 1628, 1638, 1641, 1651,\n",
       "       1652, 1660, 1661, 1671, 1681, 1691, 1708, 1731, 1735, 1754, 1764,\n",
       "       1767, 1777, 1778, 1788, 1791], dtype=int64)"
      ]
     },
     "execution_count": 37,
     "metadata": {},
     "output_type": "execute_result"
    }
   ],
   "source": [
    "ind0[0]"
   ]
  },
  {
   "cell_type": "code",
   "execution_count": 38,
   "metadata": {
    "collapsed": false
   },
   "outputs": [],
   "source": [
    "X1 = X_digits[ind1]\n",
    "X0 = X_digits[ind0]"
   ]
  },
  {
   "cell_type": "code",
   "execution_count": 39,
   "metadata": {
    "collapsed": false
   },
   "outputs": [
    {
     "data": {
      "text/plain": [
       "(181, 64)"
      ]
     },
     "execution_count": 39,
     "metadata": {},
     "output_type": "execute_result"
    }
   ],
   "source": [
    "X1.shape"
   ]
  },
  {
   "cell_type": "code",
   "execution_count": 40,
   "metadata": {
    "collapsed": false
   },
   "outputs": [
    {
     "data": {
      "text/plain": [
       "(181, 64)"
      ]
     },
     "execution_count": 40,
     "metadata": {},
     "output_type": "execute_result"
    }
   ],
   "source": [
    "X0.shape"
   ]
  },
  {
   "cell_type": "code",
   "execution_count": 41,
   "metadata": {
    "collapsed": true
   },
   "outputs": [],
   "source": [
    "a1, b1 = X1.shape\n",
    "a0, b0 = X0.shape"
   ]
  },
  {
   "cell_type": "code",
   "execution_count": 42,
   "metadata": {
    "collapsed": false
   },
   "outputs": [
    {
     "name": "stdout",
     "output_type": "stream",
     "text": [
      "27.0\n",
      "54.0\n",
      "35.0\n",
      "57.0\n",
      "56.0\n",
      "46.0\n",
      "70.0\n",
      "44.0\n",
      "38.0\n",
      "54.0\n",
      "48.0\n",
      "56.0\n",
      "54.0\n",
      "52.0\n",
      "48.0\n",
      "59.0\n",
      "54.0\n",
      "42.0\n",
      "45.0\n",
      "55.0\n",
      "56.0\n",
      "44.0\n",
      "53.0\n",
      "53.0\n",
      "60.0\n",
      "39.0\n",
      "54.0\n",
      "40.0\n",
      "40.0\n",
      "51.0\n",
      "54.0\n",
      "59.0\n",
      "45.0\n",
      "61.0\n",
      "51.0\n",
      "42.0\n",
      "48.0\n",
      "56.0\n",
      "42.0\n",
      "39.0\n",
      "52.0\n",
      "58.0\n",
      "44.0\n",
      "36.0\n",
      "40.0\n",
      "46.0\n",
      "52.0\n",
      "54.0\n",
      "35.0\n",
      "44.0\n",
      "39.0\n",
      "43.0\n",
      "55.0\n",
      "42.0\n",
      "44.0\n",
      "47.0\n",
      "56.0\n",
      "52.0\n",
      "56.0\n",
      "63.0\n",
      "57.0\n",
      "53.0\n",
      "52.0\n",
      "62.0\n",
      "54.0\n",
      "49.0\n",
      "62.0\n",
      "76.0\n",
      "68.0\n",
      "51.0\n",
      "53.0\n",
      "61.0\n",
      "80.0\n",
      "58.0\n",
      "86.0\n",
      "70.0\n",
      "74.0\n",
      "49.0\n",
      "61.0\n",
      "46.0\n",
      "50.0\n",
      "53.0\n",
      "48.0\n",
      "49.0\n",
      "46.0\n",
      "42.0\n",
      "44.0\n",
      "51.0\n",
      "50.0\n",
      "52.0\n",
      "47.0\n",
      "49.0\n",
      "57.0\n",
      "36.0\n",
      "36.0\n",
      "55.0\n",
      "47.0\n",
      "56.0\n",
      "42.0\n",
      "47.0\n",
      "56.0\n",
      "81.0\n",
      "53.0\n",
      "63.0\n",
      "67.0\n",
      "51.0\n",
      "71.0\n",
      "56.0\n",
      "63.0\n",
      "47.0\n",
      "46.0\n",
      "41.0\n",
      "40.0\n",
      "47.0\n",
      "58.0\n",
      "66.0\n",
      "50.0\n",
      "53.0\n",
      "50.0\n",
      "45.0\n",
      "42.0\n",
      "56.0\n",
      "46.0\n",
      "59.0\n",
      "50.0\n",
      "55.0\n",
      "46.0\n",
      "51.0\n",
      "61.0\n",
      "43.0\n",
      "39.0\n",
      "41.0\n",
      "57.0\n",
      "46.0\n",
      "43.0\n",
      "45.0\n",
      "52.0\n",
      "56.0\n",
      "47.0\n",
      "51.0\n",
      "44.0\n",
      "45.0\n",
      "39.0\n",
      "42.0\n",
      "42.0\n",
      "48.0\n",
      "44.0\n",
      "43.0\n",
      "40.0\n",
      "41.0\n",
      "44.0\n",
      "42.0\n",
      "47.0\n",
      "44.0\n",
      "51.0\n",
      "48.0\n",
      "43.0\n",
      "52.0\n",
      "48.0\n",
      "46.0\n",
      "56.0\n",
      "56.0\n",
      "45.0\n",
      "47.0\n",
      "39.0\n",
      "48.0\n",
      "61.0\n",
      "42.0\n",
      "37.0\n",
      "40.0\n",
      "40.0\n",
      "62.0\n",
      "37.0\n",
      "38.0\n",
      "45.0\n",
      "49.0\n",
      "40.0\n",
      "35.0\n",
      "49.0\n",
      "47.0\n",
      "54.0\n"
     ]
    }
   ],
   "source": [
    "X1_feature = []\n",
    "for i in range(a1):\n",
    "    X1_feature.append(feature_11(X1[i]))"
   ]
  },
  {
   "cell_type": "code",
   "execution_count": 43,
   "metadata": {
    "collapsed": false
   },
   "outputs": [
    {
     "name": "stdout",
     "output_type": "stream",
     "text": [
      "27.0\n",
      "54.0\n",
      "35.0\n",
      "57.0\n",
      "56.0\n",
      "46.0\n",
      "70.0\n",
      "44.0\n",
      "38.0\n",
      "54.0\n",
      "48.0\n",
      "56.0\n",
      "54.0\n",
      "52.0\n",
      "48.0\n",
      "59.0\n",
      "54.0\n",
      "42.0\n",
      "45.0\n",
      "55.0\n",
      "56.0\n",
      "44.0\n",
      "53.0\n",
      "53.0\n",
      "60.0\n",
      "39.0\n",
      "54.0\n",
      "40.0\n",
      "40.0\n",
      "51.0\n",
      "54.0\n",
      "59.0\n",
      "45.0\n",
      "61.0\n",
      "51.0\n",
      "42.0\n",
      "48.0\n",
      "56.0\n",
      "42.0\n",
      "39.0\n",
      "52.0\n",
      "58.0\n",
      "44.0\n",
      "36.0\n",
      "40.0\n",
      "46.0\n",
      "52.0\n",
      "54.0\n",
      "35.0\n",
      "44.0\n",
      "39.0\n",
      "43.0\n",
      "55.0\n",
      "42.0\n",
      "44.0\n",
      "47.0\n",
      "56.0\n",
      "52.0\n",
      "56.0\n",
      "63.0\n",
      "57.0\n",
      "53.0\n",
      "52.0\n",
      "62.0\n",
      "54.0\n",
      "49.0\n",
      "62.0\n",
      "76.0\n",
      "68.0\n",
      "51.0\n",
      "53.0\n",
      "61.0\n",
      "80.0\n",
      "58.0\n",
      "86.0\n",
      "70.0\n",
      "74.0\n",
      "49.0\n",
      "61.0\n",
      "46.0\n",
      "50.0\n",
      "53.0\n",
      "48.0\n",
      "49.0\n",
      "46.0\n",
      "42.0\n",
      "44.0\n",
      "51.0\n",
      "50.0\n",
      "52.0\n",
      "47.0\n",
      "49.0\n",
      "57.0\n",
      "36.0\n",
      "36.0\n",
      "55.0\n",
      "47.0\n",
      "56.0\n",
      "42.0\n",
      "47.0\n",
      "56.0\n",
      "81.0\n",
      "53.0\n",
      "63.0\n",
      "67.0\n",
      "51.0\n",
      "71.0\n",
      "56.0\n",
      "63.0\n",
      "47.0\n",
      "46.0\n",
      "41.0\n",
      "40.0\n",
      "47.0\n",
      "58.0\n",
      "66.0\n",
      "50.0\n",
      "53.0\n",
      "50.0\n",
      "45.0\n",
      "42.0\n",
      "56.0\n",
      "46.0\n",
      "59.0\n",
      "50.0\n",
      "55.0\n",
      "46.0\n",
      "51.0\n",
      "61.0\n",
      "43.0\n",
      "39.0\n",
      "41.0\n",
      "57.0\n",
      "46.0\n",
      "43.0\n",
      "45.0\n",
      "52.0\n",
      "56.0\n",
      "47.0\n",
      "51.0\n",
      "44.0\n",
      "45.0\n",
      "39.0\n",
      "42.0\n",
      "42.0\n",
      "48.0\n",
      "44.0\n",
      "43.0\n",
      "40.0\n",
      "41.0\n",
      "44.0\n",
      "42.0\n",
      "47.0\n",
      "44.0\n",
      "51.0\n",
      "48.0\n",
      "43.0\n",
      "52.0\n",
      "48.0\n",
      "46.0\n",
      "56.0\n",
      "56.0\n",
      "45.0\n",
      "47.0\n",
      "39.0\n",
      "48.0\n",
      "61.0\n",
      "42.0\n",
      "37.0\n",
      "40.0\n",
      "40.0\n",
      "62.0\n",
      "37.0\n",
      "38.0\n",
      "45.0\n",
      "49.0\n",
      "40.0\n",
      "35.0\n",
      "49.0\n",
      "47.0\n",
      "54.0\n"
     ]
    }
   ],
   "source": [
    "X0_feature = []\n",
    "for i in range(a0):\n",
    "    X1_feature.append(feature_11(X0[i]))"
   ]
  },
  {
   "cell_type": "code",
   "execution_count": 44,
   "metadata": {
    "collapsed": false
   },
   "outputs": [],
   "source": [
    "X_new = np.hstack([X1_feature, X0_feature])\n"
   ]
  },
  {
   "cell_type": "code",
   "execution_count": 45,
   "metadata": {
    "collapsed": false
   },
   "outputs": [
    {
     "data": {
      "text/plain": [
       "(362,)"
      ]
     },
     "execution_count": 45,
     "metadata": {},
     "output_type": "execute_result"
    }
   ],
   "source": [
    "X_new.shape"
   ]
  },
  {
   "cell_type": "code",
   "execution_count": 46,
   "metadata": {
    "collapsed": true
   },
   "outputs": [],
   "source": [
    "y_ind1 = np.ones(a1)"
   ]
  },
  {
   "cell_type": "code",
   "execution_count": 47,
   "metadata": {
    "collapsed": true
   },
   "outputs": [],
   "source": [
    "y_ind0 = np.ones(a0)*2"
   ]
  },
  {
   "cell_type": "code",
   "execution_count": 48,
   "metadata": {
    "collapsed": false
   },
   "outputs": [],
   "source": [
    "y_new = np.hstack([y_ind1, y_ind0])"
   ]
  },
  {
   "cell_type": "code",
   "execution_count": 49,
   "metadata": {
    "collapsed": false
   },
   "outputs": [
    {
     "data": {
      "text/plain": [
       "<Container object of 3 artists>"
      ]
     },
     "execution_count": 49,
     "metadata": {},
     "output_type": "execute_result"
    },
    {
     "data": {
      "image/png": "[encoded data removed]",
      "text/plain": [
       "<matplotlib.figure.Figure at 0x1a1f1b918d0>"
      ]
     },
     "metadata": {},
     "output_type": "display_data"
    }
   ],
   "source": [
    "plt.stem(y_new)"
   ]
  },
  {
   "cell_type": "code",
   "execution_count": 50,
   "metadata": {
    "collapsed": false
   },
   "outputs": [
    {
     "data": {
      "text/plain": [
       "array([ 2.,  2.,  2.,  2.,  2.,  2.,  2.,  2.,  2.,  2.,  2.,  2.,  2.,\n",
       "        2.,  2.,  2.,  2.,  2.,  2.,  2.,  2.,  2.,  2.,  2.,  2.,  2.,\n",
       "        2.,  2.,  2.,  2.,  2.,  2.,  2.,  2.,  2.,  2.,  2.,  2.,  2.,\n",
       "        2.,  2.,  2.,  2.,  2.,  2.,  2.,  2.,  2.,  2.,  2.,  2.,  2.,\n",
       "        2.,  2.,  2.,  2.,  2.,  2.,  2.,  2.,  2.,  2.,  2.,  2.,  2.,\n",
       "        2.,  2.,  2.,  2.,  2.,  2.,  2.,  2.,  2.,  2.,  2.,  2.,  2.,\n",
       "        2.,  2.,  2.,  2.,  2.,  2.,  2.,  2.,  2.,  2.,  2.,  2.,  2.,\n",
       "        2.,  2.,  2.,  2.,  2.,  2.,  2.,  2.,  2.,  2.,  2.,  2.,  2.,\n",
       "        2.,  2.,  2.,  2.,  2.,  2.,  2.,  2.,  2.,  2.,  2.,  2.,  2.,\n",
       "        2.,  2.,  2.,  2.,  2.,  2.,  2.,  2.,  2.,  2.,  2.,  2.,  2.,\n",
       "        2.,  2.,  2.,  2.,  2.,  2.,  2.,  2.,  2.,  2.,  2.,  2.,  2.,\n",
       "        2.,  2.,  2.,  2.,  2.,  2.,  2.,  2.,  2.,  2.,  2.,  2.,  2.,\n",
       "        2.,  2.,  2.,  2.,  2.,  2.,  2.,  2.,  2.,  2.,  2.,  2.,  2.,\n",
       "        2.,  2.,  2.,  2.,  2.,  2.,  2.,  2.,  2.,  2.,  2.,  2.])"
      ]
     },
     "execution_count": 50,
     "metadata": {},
     "output_type": "execute_result"
    }
   ],
   "source": [
    "y_ind0"
   ]
  },
  {
   "cell_type": "code",
   "execution_count": 51,
   "metadata": {
    "collapsed": false
   },
   "outputs": [
    {
     "data": {
      "text/plain": [
       "(181,)"
      ]
     },
     "execution_count": 51,
     "metadata": {},
     "output_type": "execute_result"
    }
   ],
   "source": [
    "y_ind1.shape"
   ]
  },
  {
   "cell_type": "code",
   "execution_count": 52,
   "metadata": {
    "collapsed": false
   },
   "outputs": [
    {
     "data": {
      "text/plain": [
       "<Container object of 3 artists>"
      ]
     },
     "execution_count": 52,
     "metadata": {},
     "output_type": "execute_result"
    },
    {
     "data": {
      "image/png": "[encoded data removed]",
      "text/plain": [
       "<matplotlib.figure.Figure at 0x1a1f25b87f0>"
      ]
     },
     "metadata": {},
     "output_type": "display_data"
    }
   ],
   "source": [
    "plt.stem(X_new)"
   ]
  },
  {
   "cell_type": "code",
   "execution_count": 80,
   "metadata": {
    "collapsed": false
   },
   "outputs": [],
   "source": [
    "X1_mean = np.sum(X1,axis=0) / a1"
   ]
  },
  {
   "cell_type": "code",
   "execution_count": 81,
   "metadata": {
    "collapsed": false
   },
   "outputs": [
    {
     "data": {
      "text/plain": [
       "array([  0.00000000e+00,   0.00000000e+00,   4.53038674e-01,\n",
       "         7.05524862e+00,   1.14972376e+01,   2.01104972e+00,\n",
       "         2.09944751e-01,   1.27071823e-01,   0.00000000e+00,\n",
       "         6.07734807e-02,   3.47513812e+00,   1.32651934e+01,\n",
       "         8.45303867e+00,   2.04972376e+00,   1.14364641e+00,\n",
       "         2.98342541e-01,   0.00000000e+00,   7.23756906e-01,\n",
       "         1.04751381e+01,   1.14033149e+01,   4.88397790e+00,\n",
       "         5.79005525e+00,   3.84530387e+00,   3.37016575e-01,\n",
       "         5.52486188e-03,   4.64088398e+00,   1.44861878e+01,\n",
       "         6.35359116e+00,   7.35359116e+00,   1.06298343e+01,\n",
       "         6.13259669e+00,   2.20994475e-02,   0.00000000e+00,\n",
       "         8.58011050e+00,   1.45856354e+01,   9.71270718e+00,\n",
       "         1.30165746e+01,   1.39502762e+01,   5.30386740e+00,\n",
       "         0.00000000e+00,   8.83977901e-02,   6.29834254e+00,\n",
       "         1.12651934e+01,   1.24033149e+01,   1.46187845e+01,\n",
       "         1.04364641e+01,   1.60773481e+00,   0.00000000e+00,\n",
       "         5.52486188e-02,   1.08839779e+00,   2.91160221e+00,\n",
       "         7.81767956e+00,   1.34530387e+01,   4.16022099e+00,\n",
       "         2.20994475e-02,   0.00000000e+00,   0.00000000e+00,\n",
       "         2.20994475e-02,   5.52486188e-01,   7.81215470e+00,\n",
       "         1.18121547e+01,   1.95580110e+00,   0.00000000e+00,\n",
       "         0.00000000e+00])"
      ]
     },
     "execution_count": 81,
     "metadata": {},
     "output_type": "execute_result"
    }
   ],
   "source": []
  },
  {
   "cell_type": "code",
   "execution_count": null,
   "metadata": {
    "collapsed": true
   },
   "outputs": [],
   "source": []
  },
  {
   "cell_type": "code",
   "execution_count": 54,
   "metadata": {
    "collapsed": false
   },
   "outputs": [
    {
     "name": "stdout",
     "output_type": "stream",
     "text": [
      "(64,)\n"
     ]
    },
    {
     "data": {
      "text/plain": [
       "<matplotlib.image.AxesImage at 0x1a1f2e10e48>"
      ]
     },
     "execution_count": 54,
     "metadata": {},
     "output_type": "execute_result"
    },
    {
     "data": {
      "image/png": "[encoded data removed]",
      "text/plain": [
       "<matplotlib.figure.Figure at 0x1a1f2d8b748>"
      ]
     },
     "metadata": {},
     "output_type": "display_data"
    }
   ],
   "source": [
    "print(X1_mean.shape)\n",
    "plt.imshow(X1_mean.reshape(8,8), cmap=plt.cm.gray_r)"
   ]
  },
  {
   "cell_type": "code",
   "execution_count": 55,
   "metadata": {
    "collapsed": false
   },
   "outputs": [
    {
     "data": {
      "text/plain": [
       "<matplotlib.image.AxesImage at 0x1a1f3e46860>"
      ]
     },
     "execution_count": 55,
     "metadata": {},
     "output_type": "execute_result"
    },
    {
     "data": {
      "image/png": "[encoded data removed]",
      "text/plain": [
       "<matplotlib.figure.Figure at 0x1a1f1d70e48>"
      ]
     },
     "metadata": {},
     "output_type": "display_data"
    }
   ],
   "source": [
    "X0_mean = np.sum(X0,axis=0) / a0\n",
    "X0_mean.shape\n",
    "plt.imshow(X0_mean.reshape(8,8), cmap=plt.cm.gray_r)"
   ]
  },
  {
   "cell_type": "code",
   "execution_count": 56,
   "metadata": {
    "collapsed": true
   },
   "outputs": [],
   "source": [
    "from sklearn.discriminant_analysis import LinearDiscriminantAnalysis"
   ]
  },
  {
   "cell_type": "code",
   "execution_count": 57,
   "metadata": {
    "collapsed": true
   },
   "outputs": [],
   "source": [
    "clf = LinearDiscriminantAnalysis()"
   ]
  },
  {
   "cell_type": "code",
   "execution_count": 58,
   "metadata": {
    "collapsed": true
   },
   "outputs": [],
   "source": [
    "ind_all = np.arange(0,len(y_digits))"
   ]
  },
  {
   "cell_type": "code",
   "execution_count": 59,
   "metadata": {
    "collapsed": false
   },
   "outputs": [
    {
     "data": {
      "text/plain": [
       "array([   0,    1,    2, ..., 1794, 1795, 1796])"
      ]
     },
     "execution_count": 59,
     "metadata": {},
     "output_type": "execute_result"
    }
   ],
   "source": [
    "ind_all"
   ]
  },
  {
   "cell_type": "code",
   "execution_count": 60,
   "metadata": {
    "collapsed": true
   },
   "outputs": [],
   "source": [
    "np.random.shuffle(ind_all)"
   ]
  },
  {
   "cell_type": "code",
   "execution_count": 61,
   "metadata": {
    "collapsed": false
   },
   "outputs": [
    {
     "data": {
      "text/plain": [
       "array([276, 601, 956, ..., 686, 931, 574])"
      ]
     },
     "execution_count": 61,
     "metadata": {},
     "output_type": "execute_result"
    }
   ],
   "source": [
    "ind_all"
   ]
  },
  {
   "cell_type": "code",
   "execution_count": 62,
   "metadata": {
    "collapsed": false
   },
   "outputs": [],
   "source": [
    "ind_training = ind_all[0:int(0.8 * len(ind_all))   ]"
   ]
  },
  {
   "cell_type": "code",
   "execution_count": 63,
   "metadata": {
    "collapsed": false
   },
   "outputs": [
    {
     "data": {
      "text/plain": [
       "1437"
      ]
     },
     "execution_count": 63,
     "metadata": {},
     "output_type": "execute_result"
    }
   ],
   "source": [
    "int(0.8 * len(ind_all))"
   ]
  },
  {
   "cell_type": "code",
   "execution_count": 64,
   "metadata": {
    "collapsed": true
   },
   "outputs": [],
   "source": [
    "ind_test = ind_all[int(0.8 * len(ind_all)):]"
   ]
  },
  {
   "cell_type": "code",
   "execution_count": 65,
   "metadata": {
    "collapsed": false
   },
   "outputs": [
    {
     "name": "stderr",
     "output_type": "stream",
     "text": [
      "D:\\Programs\\Anaconda3\\lib\\site-packages\\sklearn\\discriminant_analysis.py:387: UserWarning: Variables are collinear.\n",
      "  warnings.warn(\"Variables are collinear.\")\n"
     ]
    },
    {
     "data": {
      "text/plain": [
       "LinearDiscriminantAnalysis(n_components=None, priors=None, shrinkage=None,\n",
       "              solver='svd', store_covariance=False, tol=0.0001)"
      ]
     },
     "execution_count": 65,
     "metadata": {},
     "output_type": "execute_result"
    }
   ],
   "source": [
    "clf.fit(X_digits[ind_training], y_digits[ind_training])"
   ]
  },
  {
   "cell_type": "code",
   "execution_count": 66,
   "metadata": {
    "collapsed": false
   },
   "outputs": [],
   "source": [
    "y_predicted = clf.predict(X_digits[ind_test])"
   ]
  },
  {
   "cell_type": "code",
   "execution_count": 67,
   "metadata": {
    "collapsed": false
   },
   "outputs": [
    {
     "data": {
      "text/plain": [
       "360"
      ]
     },
     "execution_count": 67,
     "metadata": {},
     "output_type": "execute_result"
    }
   ],
   "source": [
    "len(y_predicted)"
   ]
  },
  {
   "cell_type": "code",
   "execution_count": 68,
   "metadata": {
    "collapsed": false
   },
   "outputs": [
    {
     "data": {
      "text/plain": [
       "array([5, 8, 6, 3, 2, 6, 9, 0, 5, 7, 1, 7, 3, 1, 9, 9, 2, 8, 3, 5, 9, 7, 1,\n",
       "       1, 3, 2, 8, 7, 1, 4, 4, 3, 1, 4, 3, 1, 9, 6, 4, 3, 1, 9, 4, 0, 5, 1,\n",
       "       3, 1, 2, 0, 6, 2, 9, 9, 9, 8, 0, 7, 2, 4, 7, 0, 3, 7, 6, 2, 3, 4, 1,\n",
       "       1, 1, 5, 4, 4, 1, 2, 2, 4, 5, 7, 6, 9, 4, 6, 3, 7, 9, 7, 3, 3, 7, 0,\n",
       "       1, 1, 3, 1, 6, 7, 9, 0, 1, 4, 7, 1, 9, 3, 9, 7, 0, 3, 2, 7, 3, 9, 7,\n",
       "       2, 6, 3, 3, 0, 4, 5, 5, 9, 7, 6, 6, 1, 2, 5, 1, 4, 6, 1, 2, 4, 4, 0,\n",
       "       2, 1, 7, 9, 4, 4, 6, 5, 8, 7, 6, 0, 4, 5, 3, 6, 0, 0, 5, 4, 3, 1, 2,\n",
       "       8, 0, 0, 6, 2, 9, 1, 2, 5, 9, 2, 1, 8, 1, 8, 5, 7, 0, 9, 8, 8, 7, 5,\n",
       "       4, 8, 8, 0, 1, 7, 9, 5, 1, 6, 9, 3, 0, 5, 0, 0, 0, 2, 0, 3, 7, 6, 3,\n",
       "       0, 0, 7, 9, 4, 6, 9, 0, 2, 0, 7, 2, 5, 1, 0, 4, 1, 5, 4, 1, 2, 5, 3,\n",
       "       5, 3, 9, 0, 4, 6, 0, 0, 9, 2, 9, 0, 1, 4, 6, 8, 8, 9, 1, 7, 3, 3, 9,\n",
       "       9, 6, 7, 4, 1, 8, 5, 9, 9, 8, 8, 8, 7, 9, 3, 8, 6, 7, 3, 6, 1, 6, 8,\n",
       "       5, 5, 7, 1, 0, 7, 6, 5, 7, 7, 3, 6, 0, 5, 9, 4, 4, 1, 7, 5, 4, 5, 3,\n",
       "       5, 4, 4, 5, 5, 6, 4, 7, 6, 5, 4, 2, 2, 3, 3, 8, 6, 6, 8, 6, 2, 9, 0,\n",
       "       3, 6, 4, 5, 9, 1, 4, 7, 3, 1, 4, 5, 3, 8, 9, 4, 2, 2, 2, 9, 6, 3, 7,\n",
       "       7, 0, 0, 3, 3, 8, 0, 7, 4, 6, 1, 5, 8, 6, 6])"
      ]
     },
     "execution_count": 68,
     "metadata": {},
     "output_type": "execute_result"
    }
   ],
   "source": [
    "y_predicted"
   ]
  },
  {
   "cell_type": "code",
   "execution_count": 69,
   "metadata": {
    "collapsed": false
   },
   "outputs": [
    {
     "data": {
      "text/plain": [
       "<Container object of 3 artists>"
      ]
     },
     "execution_count": 69,
     "metadata": {},
     "output_type": "execute_result"
    },
    {
     "data": {
      "image/png": "[encoded data removed]",
      "text/plain": [
       "<matplotlib.figure.Figure at 0x1a1f425a198>"
      ]
     },
     "metadata": {},
     "output_type": "display_data"
    }
   ],
   "source": [
    "plt.subplot(211)\n",
    "plt.stem(y_predicted)\n",
    "plt.subplot(212)\n",
    "plt.stem(y_digits[ind_test], 'r')"
   ]
  },
  {
   "cell_type": "code",
   "execution_count": 70,
   "metadata": {
    "collapsed": false
   },
   "outputs": [
    {
     "data": {
      "text/plain": [
       "<Container object of 3 artists>"
      ]
     },
     "execution_count": 70,
     "metadata": {},
     "output_type": "execute_result"
    },
    {
     "data": {
      "image/png": "[encoded data removed]",
      "text/plain": [
       "<matplotlib.figure.Figure at 0x1a1f2cb8f28>"
      ]
     },
     "metadata": {},
     "output_type": "display_data"
    }
   ],
   "source": [
    "plt.stem(y_digits[ind_test] - y_predicted, 'r')"
   ]
  },
  {
   "cell_type": "code",
   "execution_count": 71,
   "metadata": {
    "collapsed": false
   },
   "outputs": [
    {
     "data": {
      "text/plain": [
       "0.94444444444444442"
      ]
     },
     "execution_count": 71,
     "metadata": {},
     "output_type": "execute_result"
    }
   ],
   "source": [
    "sum (y_predicted == y_digits[ind_test]) / len(y_predicted)"
   ]
  },
  {
   "cell_type": "code",
   "execution_count": 72,
   "metadata": {
    "collapsed": false
   },
   "outputs": [
    {
     "data": {
      "text/plain": [
       "0.94444444444444442"
      ]
     },
     "execution_count": 72,
     "metadata": {},
     "output_type": "execute_result"
    }
   ],
   "source": [
    "sum (y_predicted == y_digits[ind_test]) / len(y_predicted)"
   ]
  },
  {
   "cell_type": "code",
   "execution_count": 73,
   "metadata": {
    "collapsed": false
   },
   "outputs": [
    {
     "data": {
      "text/plain": [
       "(10, 64)"
      ]
     },
     "execution_count": 73,
     "metadata": {},
     "output_type": "execute_result"
    }
   ],
   "source": [
    "clf.coef_.shape"
   ]
  },
  {
   "cell_type": "code",
   "execution_count": 74,
   "metadata": {
    "collapsed": true
   },
   "outputs": [],
   "source": [
    "plt.imshow?"
   ]
  },
  {
   "cell_type": "code",
   "execution_count": 75,
   "metadata": {
    "collapsed": false
   },
   "outputs": [
    {
     "data": {
      "text/plain": [
       "<matplotlib.image.AxesImage at 0x1a1f8494e48>"
      ]
     },
     "execution_count": 75,
     "metadata": {},
     "output_type": "execute_result"
    },
    {
     "data": {
      "image/png": "[encoded data removed]",
      "text/plain": [
       "<matplotlib.figure.Figure at 0x1a1f8310940>"
      ]
     },
     "metadata": {},
     "output_type": "display_data"
    }
   ],
   "source": [
    "plt.imshow(digits.images[3], cmap=plt.cm.gray_r)"
   ]
  },
  {
   "cell_type": "code",
   "execution_count": 76,
   "metadata": {
    "collapsed": false
   },
   "outputs": [
    {
     "data": {
      "text/plain": [
       "<Container object of 3 artists>"
      ]
     },
     "execution_count": 76,
     "metadata": {},
     "output_type": "execute_result"
    },
    {
     "data": {
      "image/png": "[encoded data removed]",
      "text/plain": [
       "<matplotlib.figure.Figure at 0x1a1f84cd908>"
      ]
     },
     "metadata": {},
     "output_type": "display_data"
    }
   ],
   "source": [
    "plt.stem(X_digits[3])"
   ]
  },
  {
   "cell_type": "code",
   "execution_count": 77,
   "metadata": {
    "collapsed": false
   },
   "outputs": [
    {
     "data": {
      "text/plain": [
       "(1797,)"
      ]
     },
     "execution_count": 77,
     "metadata": {},
     "output_type": "execute_result"
    }
   ],
   "source": [
    "y_digits.shape"
   ]
  },
  {
   "cell_type": "code",
   "execution_count": 78,
   "metadata": {
    "collapsed": false
   },
   "outputs": [
    {
     "data": {
      "text/plain": [
       "3"
      ]
     },
     "execution_count": 78,
     "metadata": {},
     "output_type": "execute_result"
    }
   ],
   "source": [
    "y_digits[3]"
   ]
  },
  {
   "cell_type": "code",
   "execution_count": null,
   "metadata": {
    "collapsed": true
   },
   "outputs": [],
   "source": []
  }
 ],
 "metadata": {
  "anaconda-cloud": {},
  "kernelspec": {
   "display_name": "Python 3",
   "language": "python",
   "name": "python3"
  },
  "language_info": {
   "codemirror_mode": {
    "name": "ipython",
    "version": 3
   },
   "file_extension": ".py",
   "mimetype": "text/x-python",
   "name": "python",
   "nbconvert_exporter": "python",
   "pygments_lexer": "ipython3",
   "version": "3.6.0"
  }
 },
 "nbformat": 4,
 "nbformat_minor": 1
}
