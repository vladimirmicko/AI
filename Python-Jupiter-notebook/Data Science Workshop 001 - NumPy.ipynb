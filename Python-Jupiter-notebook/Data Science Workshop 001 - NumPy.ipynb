{
 "cells": [
  {
   "cell_type": "markdown",
   "metadata": {},
   "source": [
    "# Kratak uvod u NumPy - Numerical Python biblioteku"
   ]
  },
  {
   "cell_type": "code",
   "execution_count": 1,
   "metadata": {
    "collapsed": true
   },
   "outputs": [],
   "source": [
    "# \"#\" Ovo je znak za komentar. \n",
    "# Uvezli smo biblioteku numpy kao instancu np koristeci komandu import\n",
    "\n",
    "import numpy as np "
   ]
  },
  {
   "cell_type": "code",
   "execution_count": 2,
   "metadata": {
    "collapsed": true
   },
   "outputs": [],
   "source": [
    "# np sada mozemo koristiti u velikom broju primera.\n",
    "# ukoliko otkucamo np. i pritisnemo TAB dobićemo listu mogucih funkcija\n",
    "\n",
    "# kreiramo niz od 6 elemenata\n",
    "a= np.array([0, 1, 2, 3, 4, 5])"
   ]
  },
  {
   "cell_type": "code",
   "execution_count": 3,
   "metadata": {
    "collapsed": true
   },
   "outputs": [],
   "source": [
    "# a * 3 u slucaju da je a numpy instanca, mnozi se svaki element sa 3\n",
    "a = a * 3"
   ]
  },
  {
   "cell_type": "markdown",
   "metadata": {},
   "source": [
    "### # Ovo je vazan koncept u NumPy-ju  (slican kao i u Matlabu).   # Vectorization:: moguce je procesirati nizove na brz nacin bez koriscenja loop petlji"
   ]
  },
  {
   "cell_type": "code",
   "execution_count": 4,
   "metadata": {
    "collapsed": false
   },
   "outputs": [
    {
     "name": "stdout",
     "output_type": "stream",
     "text": [
      "[ 0  3  6  9 12 15]\n"
     ]
    }
   ],
   "source": [
    "print (a)"
   ]
  },
  {
   "cell_type": "code",
   "execution_count": 5,
   "metadata": {
    "collapsed": false
   },
   "outputs": [
    {
     "data": {
      "text/plain": [
       "1"
      ]
     },
     "execution_count": 5,
     "metadata": {},
     "output_type": "execute_result"
    }
   ],
   "source": [
    "# ovim smo generisali numericki niz od 6 elemenata. \n",
    "# mozemo proveriti dimenzije niza. U ovom slucaju rezultat 1 nam \n",
    "# govori da se radi o vektoru. \n",
    "a.ndim"
   ]
  },
  {
   "cell_type": "code",
   "execution_count": 6,
   "metadata": {
    "collapsed": false
   },
   "outputs": [
    {
     "data": {
      "text/plain": [
       "array([[ 0,  3,  6],\n",
       "       [ 9, 12, 15]])"
      ]
     },
     "execution_count": 6,
     "metadata": {},
     "output_type": "execute_result"
    }
   ],
   "source": [
    "# komandom reshape mozemo promeniti oblik niza. Od 1D niza (1x6), mozemo kreirati matricu, 2D niz, dimenzija (2 x 3)\n",
    "a.reshape(2,3)"
   ]
  },
  {
   "cell_type": "code",
   "execution_count": 7,
   "metadata": {
    "collapsed": true
   },
   "outputs": [],
   "source": [
    "b = np.zeros((3,4))"
   ]
  },
  {
   "cell_type": "code",
   "execution_count": 8,
   "metadata": {
    "collapsed": false
   },
   "outputs": [
    {
     "data": {
      "text/plain": [
       "array([[ 0.,  0.,  0.,  0.],\n",
       "       [ 0.,  0.,  0.,  0.],\n",
       "       [ 0.,  0.,  0.,  0.]])"
      ]
     },
     "execution_count": 8,
     "metadata": {},
     "output_type": "execute_result"
    }
   ],
   "source": [
    "b"
   ]
  },
  {
   "cell_type": "code",
   "execution_count": 9,
   "metadata": {
    "collapsed": true
   },
   "outputs": [],
   "source": [
    "x = np.array([[1., 2., 3.], [4., 5., 6.]])"
   ]
  },
  {
   "cell_type": "code",
   "execution_count": 10,
   "metadata": {
    "collapsed": false
   },
   "outputs": [
    {
     "name": "stdout",
     "output_type": "stream",
     "text": [
      "[[ 1.  2.  3.]\n",
      " [ 4.  5.  6.]]\n"
     ]
    }
   ],
   "source": [
    "print(x)"
   ]
  },
  {
   "cell_type": "code",
   "execution_count": 11,
   "metadata": {
    "collapsed": false
   },
   "outputs": [
    {
     "data": {
      "text/plain": [
       "array([[  3.,   6.,   9.],\n",
       "       [ 12.,  15.,  18.]])"
      ]
     },
     "execution_count": 11,
     "metadata": {},
     "output_type": "execute_result"
    }
   ],
   "source": [
    "x * 3"
   ]
  },
  {
   "cell_type": "markdown",
   "metadata": {},
   "source": [
    "# Indeksiranje"
   ]
  },
  {
   "cell_type": "code",
   "execution_count": 12,
   "metadata": {
    "collapsed": true
   },
   "outputs": [],
   "source": [
    "N = 10\n",
    "x  = np.arange(N)"
   ]
  },
  {
   "cell_type": "code",
   "execution_count": 13,
   "metadata": {
    "collapsed": false
   },
   "outputs": [
    {
     "data": {
      "text/plain": [
       "numpy.ndarray"
      ]
     },
     "execution_count": 13,
     "metadata": {},
     "output_type": "execute_result"
    }
   ],
   "source": [
    "# ovom naredbom type mozemo proveriti koji je tip podataka x. --> numpy.ndarray\n",
    "type(x)"
   ]
  },
  {
   "cell_type": "code",
   "execution_count": 14,
   "metadata": {
    "collapsed": false
   },
   "outputs": [
    {
     "name": "stdout",
     "output_type": "stream",
     "text": [
      "[0 1 2 3 4 5 6 7 8 9]\n"
     ]
    }
   ],
   "source": [
    "print(x)"
   ]
  },
  {
   "cell_type": "code",
   "execution_count": 15,
   "metadata": {
    "collapsed": false
   },
   "outputs": [
    {
     "data": {
      "text/plain": [
       "0"
      ]
     },
     "execution_count": 15,
     "metadata": {},
     "output_type": "execute_result"
    }
   ],
   "source": [
    "# Indeksiranje pocinje od 0, do N-1\n",
    "x[0]"
   ]
  },
  {
   "cell_type": "code",
   "execution_count": 16,
   "metadata": {
    "collapsed": false
   },
   "outputs": [
    {
     "name": "stdout",
     "output_type": "stream",
     "text": [
      "1 5 9\n"
     ]
    }
   ],
   "source": [
    "print(x[1], x[5], x[-1])"
   ]
  },
  {
   "cell_type": "code",
   "execution_count": 17,
   "metadata": {
    "collapsed": false
   },
   "outputs": [
    {
     "name": "stdout",
     "output_type": "stream",
     "text": [
      "[2 3 4]\n"
     ]
    }
   ],
   "source": [
    "print(x[2:5])"
   ]
  },
  {
   "cell_type": "markdown",
   "metadata": {},
   "source": [
    "# # Funkcije za brzo procesiranje pojedinacnih elemenata niza"
   ]
  },
  {
   "cell_type": "markdown",
   "metadata": {},
   "source": [
    "# # \"Element-wise processing\". U Matlabu se za ovo koristila tacka, npr. \".*\""
   ]
  },
  {
   "cell_type": "code",
   "execution_count": 18,
   "metadata": {
    "collapsed": true
   },
   "outputs": [],
   "source": [
    "x = np.array(range(10))"
   ]
  },
  {
   "cell_type": "code",
   "execution_count": 19,
   "metadata": {
    "collapsed": false
   },
   "outputs": [
    {
     "name": "stdout",
     "output_type": "stream",
     "text": [
      "[0 1 2 3 4 5 6 7 8 9]\n"
     ]
    }
   ],
   "source": [
    "print (x)"
   ]
  },
  {
   "cell_type": "code",
   "execution_count": 20,
   "metadata": {
    "collapsed": false
   },
   "outputs": [
    {
     "data": {
      "text/plain": [
       "array([ 0.        ,  1.        ,  1.41421356,  1.73205081,  2.        ,\n",
       "        2.23606798,  2.44948974,  2.64575131,  2.82842712,  3.        ])"
      ]
     },
     "execution_count": 20,
     "metadata": {},
     "output_type": "execute_result"
    }
   ],
   "source": [
    "np.sqrt(x)"
   ]
  },
  {
   "cell_type": "code",
   "execution_count": 34,
   "metadata": {
    "collapsed": false
   },
   "outputs": [
    {
     "data": {
      "text/plain": [
       "array([  1.00000000e+00,   9.99822352e-01,   9.99289473e-01,\n",
       "         9.98401550e-01,   9.97158900e-01,   9.95561965e-01,\n",
       "         9.93611311e-01,   9.91307631e-01,   9.88651745e-01,\n",
       "         9.85644595e-01,   9.82287251e-01,   9.78580904e-01,\n",
       "         9.74526873e-01,   9.70126596e-01,   9.65381639e-01,\n",
       "         9.60293686e-01,   9.54864545e-01,   9.49096145e-01,\n",
       "         9.42990536e-01,   9.36549887e-01,   9.29776486e-01,\n",
       "         9.22672740e-01,   9.15241173e-01,   9.07484425e-01,\n",
       "         8.99405252e-01,   8.91006524e-01,   8.82291226e-01,\n",
       "         8.73262455e-01,   8.63923417e-01,   8.54277432e-01,\n",
       "         8.44327926e-01,   8.34078434e-01,   8.23532598e-01,\n",
       "         8.12694164e-01,   8.01566985e-01,   7.90155012e-01,\n",
       "         7.78462302e-01,   7.66493007e-01,   7.54251381e-01,\n",
       "         7.41741773e-01,   7.28968627e-01,   7.15936483e-01,\n",
       "         7.02649970e-01,   6.89113808e-01,   6.75332808e-01,\n",
       "         6.61311865e-01,   6.47055962e-01,   6.32570162e-01,\n",
       "         6.17859613e-01,   6.02929542e-01,   5.87785252e-01,\n",
       "         5.72432126e-01,   5.56875616e-01,   5.41121252e-01,\n",
       "         5.25174630e-01,   5.09041416e-01,   4.92727342e-01,\n",
       "         4.76238204e-01,   4.59579861e-01,   4.42758231e-01,\n",
       "         4.25779292e-01,   4.08649075e-01,   3.91373667e-01,\n",
       "         3.73959206e-01,   3.56411879e-01,   3.38737920e-01,\n",
       "         3.20943610e-01,   3.03035270e-01,   2.85019262e-01,\n",
       "         2.66901989e-01,   2.48689887e-01,   2.30389427e-01,\n",
       "         2.12007110e-01,   1.93549468e-01,   1.75023059e-01,\n",
       "         1.56434465e-01,   1.37790291e-01,   1.19097160e-01,\n",
       "         1.00361715e-01,   8.15906116e-02,   6.27905195e-02,\n",
       "         4.39681183e-02,   2.51300954e-02,   6.28314397e-03,\n",
       "        -1.25660399e-02,  -3.14107591e-02,  -5.02443182e-02,\n",
       "        -6.90600257e-02,  -8.78511966e-02,  -1.06611154e-01,\n",
       "        -1.25333234e-01,  -1.44010783e-01,  -1.62637165e-01,\n",
       "        -1.81205764e-01,  -1.99709981e-01,  -2.18143241e-01,\n",
       "        -2.36498997e-01,  -2.54770726e-01,  -2.72951936e-01,\n",
       "        -2.91036167e-01,  -3.09016994e-01,  -3.26888030e-01,\n",
       "        -3.44642923e-01,  -3.62275367e-01,  -3.79779096e-01,\n",
       "        -3.97147891e-01,  -4.14375581e-01,  -4.31456046e-01,\n",
       "        -4.48383216e-01,  -4.65151078e-01,  -4.81753674e-01,\n",
       "        -4.98185105e-01,  -5.14439534e-01,  -5.30511184e-01,\n",
       "        -5.46394347e-01,  -5.62083378e-01,  -5.77572703e-01,\n",
       "        -5.92856820e-01,  -6.07930298e-01,  -6.22787780e-01,\n",
       "        -6.37423990e-01,  -6.51833725e-01,  -6.66011867e-01,\n",
       "        -6.79953379e-01,  -6.93653306e-01,  -7.07106781e-01,\n",
       "        -7.20309025e-01,  -7.33255346e-01,  -7.45941145e-01,\n",
       "        -7.58361915e-01,  -7.70513243e-01,  -7.82390811e-01,\n",
       "        -7.93990399e-01,  -8.05307886e-01,  -8.16339251e-01,\n",
       "        -8.27080574e-01,  -8.37528040e-01,  -8.47677936e-01,\n",
       "        -8.57526656e-01,  -8.67070701e-01,  -8.76306680e-01,\n",
       "        -8.85231311e-01,  -8.93841424e-01,  -9.02133959e-01,\n",
       "        -9.10105971e-01,  -9.17754626e-01,  -9.25077207e-01,\n",
       "        -9.32071112e-01,  -9.38733858e-01,  -9.45063075e-01,\n",
       "        -9.51056516e-01,  -9.56712052e-01,  -9.62027672e-01,\n",
       "        -9.67001488e-01,  -9.71631733e-01,  -9.75916762e-01,\n",
       "        -9.79855052e-01,  -9.83445205e-01,  -9.86685944e-01,\n",
       "        -9.89576119e-01,  -9.92114701e-01,  -9.94300790e-01,\n",
       "        -9.96133609e-01,  -9.97612506e-01,  -9.98736957e-01,\n",
       "        -9.99506560e-01,  -9.99921044e-01,  -9.99980261e-01,\n",
       "        -9.99684189e-01,  -9.99032935e-01,  -9.98026728e-01,\n",
       "        -9.96665928e-01,  -9.94951017e-01,  -9.92882605e-01,\n",
       "        -9.90461426e-01,  -9.87688341e-01,  -9.84564335e-01,\n",
       "        -9.81090517e-01,  -9.77268124e-01,  -9.73098511e-01,\n",
       "        -9.68583161e-01,  -9.63723678e-01,  -9.58521789e-01,\n",
       "        -9.52979342e-01,  -9.47098305e-01,  -9.40880769e-01,\n",
       "        -9.34328942e-01,  -9.27445153e-01,  -9.20231847e-01,\n",
       "        -9.12691587e-01,  -9.04827052e-01,  -8.96641037e-01,\n",
       "        -8.88136449e-01,  -8.79316310e-01,  -8.70183755e-01,\n",
       "        -8.60742027e-01,  -8.50994482e-01,  -8.40944582e-01,\n",
       "        -8.30595899e-01,  -8.19952109e-01,  -8.09016994e-01,\n",
       "        -7.97794440e-01,  -7.86288432e-01,  -7.74503060e-01,\n",
       "        -7.62442511e-01,  -7.50111070e-01,  -7.37513117e-01,\n",
       "        -7.24653130e-01,  -7.11535677e-01,  -6.98165419e-01,\n",
       "        -6.84547106e-01,  -6.70685577e-01,  -6.56585756e-01,\n",
       "        -6.42252653e-01,  -6.27691361e-01,  -6.12907054e-01,\n",
       "        -5.97904983e-01,  -5.82690480e-01,  -5.67268949e-01,\n",
       "        -5.51645871e-01,  -5.35826795e-01,  -5.19817343e-01,\n",
       "        -5.03623202e-01,  -4.87250126e-01,  -4.70703932e-01,\n",
       "        -4.53990500e-01,  -4.37115767e-01,  -4.20085728e-01,\n",
       "        -4.02906436e-01,  -3.85583992e-01,  -3.68124553e-01,\n",
       "        -3.50534320e-01,  -3.32819545e-01,  -3.14986520e-01,\n",
       "        -2.97041582e-01,  -2.78991106e-01,  -2.60841506e-01,\n",
       "        -2.42599231e-01,  -2.24270761e-01,  -2.05862609e-01,\n",
       "        -1.87381315e-01,  -1.68833445e-01,  -1.50225589e-01,\n",
       "        -1.31564359e-01,  -1.12856385e-01,  -9.41083133e-02,\n",
       "        -7.53268055e-02,  -5.65185345e-02,  -3.76901827e-02,\n",
       "        -1.88484397e-02,  -1.83697020e-16,   1.88484397e-02,\n",
       "         3.76901827e-02,   5.65185345e-02,   7.53268055e-02,\n",
       "         9.41083133e-02,   1.12856385e-01,   1.31564359e-01,\n",
       "         1.50225589e-01,   1.68833445e-01,   1.87381315e-01,\n",
       "         2.05862609e-01,   2.24270761e-01,   2.42599231e-01,\n",
       "         2.60841506e-01,   2.78991106e-01,   2.97041582e-01,\n",
       "         3.14986520e-01,   3.32819545e-01,   3.50534320e-01,\n",
       "         3.68124553e-01,   3.85583992e-01,   4.02906436e-01,\n",
       "         4.20085728e-01,   4.37115767e-01,   4.53990500e-01,\n",
       "         4.70703932e-01,   4.87250126e-01,   5.03623202e-01,\n",
       "         5.19817343e-01,   5.35826795e-01,   5.51645871e-01,\n",
       "         5.67268949e-01,   5.82690480e-01,   5.97904983e-01,\n",
       "         6.12907054e-01,   6.27691361e-01,   6.42252653e-01,\n",
       "         6.56585756e-01,   6.70685577e-01,   6.84547106e-01,\n",
       "         6.98165419e-01,   7.11535677e-01,   7.24653130e-01,\n",
       "         7.37513117e-01,   7.50111070e-01,   7.62442511e-01,\n",
       "         7.74503060e-01,   7.86288432e-01,   7.97794440e-01,\n",
       "         8.09016994e-01,   8.19952109e-01,   8.30595899e-01,\n",
       "         8.40944582e-01,   8.50994482e-01,   8.60742027e-01,\n",
       "         8.70183755e-01,   8.79316310e-01,   8.88136449e-01,\n",
       "         8.96641037e-01,   9.04827052e-01,   9.12691587e-01,\n",
       "         9.20231847e-01,   9.27445153e-01,   9.34328942e-01,\n",
       "         9.40880769e-01,   9.47098305e-01,   9.52979342e-01,\n",
       "         9.58521789e-01,   9.63723678e-01,   9.68583161e-01,\n",
       "         9.73098511e-01,   9.77268124e-01,   9.81090517e-01,\n",
       "         9.84564335e-01,   9.87688341e-01,   9.90461426e-01,\n",
       "         9.92882605e-01,   9.94951017e-01,   9.96665928e-01,\n",
       "         9.98026728e-01,   9.99032935e-01,   9.99684189e-01,\n",
       "         9.99980261e-01,   9.99921044e-01,   9.99506560e-01,\n",
       "         9.98736957e-01,   9.97612506e-01,   9.96133609e-01,\n",
       "         9.94300790e-01,   9.92114701e-01,   9.89576119e-01,\n",
       "         9.86685944e-01,   9.83445205e-01,   9.79855052e-01,\n",
       "         9.75916762e-01,   9.71631733e-01,   9.67001488e-01,\n",
       "         9.62027672e-01,   9.56712052e-01,   9.51056516e-01,\n",
       "         9.45063075e-01,   9.38733858e-01,   9.32071112e-01,\n",
       "         9.25077207e-01,   9.17754626e-01,   9.10105971e-01,\n",
       "         9.02133959e-01,   8.93841424e-01,   8.85231311e-01,\n",
       "         8.76306680e-01,   8.67070701e-01,   8.57526656e-01,\n",
       "         8.47677936e-01,   8.37528040e-01,   8.27080574e-01,\n",
       "         8.16339251e-01,   8.05307886e-01,   7.93990399e-01,\n",
       "         7.82390811e-01,   7.70513243e-01,   7.58361915e-01,\n",
       "         7.45941145e-01,   7.33255346e-01,   7.20309025e-01,\n",
       "         7.07106781e-01,   6.93653306e-01,   6.79953379e-01,\n",
       "         6.66011867e-01,   6.51833725e-01,   6.37423990e-01,\n",
       "         6.22787780e-01,   6.07930298e-01,   5.92856820e-01,\n",
       "         5.77572703e-01,   5.62083378e-01,   5.46394347e-01,\n",
       "         5.30511184e-01,   5.14439534e-01,   4.98185105e-01,\n",
       "         4.81753674e-01,   4.65151078e-01,   4.48383216e-01,\n",
       "         4.31456046e-01,   4.14375581e-01,   3.97147891e-01,\n",
       "         3.79779096e-01,   3.62275367e-01,   3.44642923e-01,\n",
       "         3.26888030e-01,   3.09016994e-01,   2.91036167e-01,\n",
       "         2.72951936e-01,   2.54770726e-01,   2.36498997e-01,\n",
       "         2.18143241e-01,   1.99709981e-01,   1.81205764e-01,\n",
       "         1.62637165e-01,   1.44010783e-01,   1.25333234e-01,\n",
       "         1.06611154e-01,   8.78511966e-02,   6.90600257e-02,\n",
       "         5.02443182e-02,   3.14107591e-02,   1.25660399e-02,\n",
       "        -6.28314397e-03,  -2.51300954e-02,  -4.39681183e-02,\n",
       "        -6.27905195e-02,  -8.15906116e-02,  -1.00361715e-01,\n",
       "        -1.19097160e-01,  -1.37790291e-01,  -1.56434465e-01,\n",
       "        -1.75023059e-01,  -1.93549468e-01,  -2.12007110e-01,\n",
       "        -2.30389427e-01,  -2.48689887e-01,  -2.66901989e-01,\n",
       "        -2.85019262e-01,  -3.03035270e-01,  -3.20943610e-01,\n",
       "        -3.38737920e-01,  -3.56411879e-01,  -3.73959206e-01,\n",
       "        -3.91373667e-01,  -4.08649075e-01,  -4.25779292e-01,\n",
       "        -4.42758231e-01,  -4.59579861e-01,  -4.76238204e-01,\n",
       "        -4.92727342e-01,  -5.09041416e-01,  -5.25174630e-01,\n",
       "        -5.41121252e-01,  -5.56875616e-01,  -5.72432126e-01,\n",
       "        -5.87785252e-01,  -6.02929542e-01,  -6.17859613e-01,\n",
       "        -6.32570162e-01,  -6.47055962e-01,  -6.61311865e-01,\n",
       "        -6.75332808e-01,  -6.89113808e-01,  -7.02649970e-01,\n",
       "        -7.15936483e-01,  -7.28968627e-01,  -7.41741773e-01,\n",
       "        -7.54251381e-01,  -7.66493007e-01,  -7.78462302e-01,\n",
       "        -7.90155012e-01,  -8.01566985e-01,  -8.12694164e-01,\n",
       "        -8.23532598e-01,  -8.34078434e-01,  -8.44327926e-01,\n",
       "        -8.54277432e-01,  -8.63923417e-01,  -8.73262455e-01,\n",
       "        -8.82291226e-01,  -8.91006524e-01,  -8.99405252e-01,\n",
       "        -9.07484425e-01,  -9.15241173e-01,  -9.22672740e-01,\n",
       "        -9.29776486e-01,  -9.36549887e-01,  -9.42990536e-01,\n",
       "        -9.49096145e-01,  -9.54864545e-01,  -9.60293686e-01,\n",
       "        -9.65381639e-01,  -9.70126596e-01,  -9.74526873e-01,\n",
       "        -9.78580904e-01,  -9.82287251e-01,  -9.85644595e-01,\n",
       "        -9.88651745e-01,  -9.91307631e-01,  -9.93611311e-01,\n",
       "        -9.95561965e-01,  -9.97158900e-01,  -9.98401550e-01,\n",
       "        -9.99289473e-01,  -9.99822352e-01,  -1.00000000e+00,\n",
       "        -9.99822352e-01,  -9.99289473e-01,  -9.98401550e-01,\n",
       "        -9.97158900e-01,  -9.95561965e-01,  -9.93611311e-01,\n",
       "        -9.91307631e-01,  -9.88651745e-01,  -9.85644595e-01,\n",
       "        -9.82287251e-01,  -9.78580904e-01,  -9.74526873e-01,\n",
       "        -9.70126596e-01,  -9.65381639e-01,  -9.60293686e-01,\n",
       "        -9.54864545e-01,  -9.49096145e-01,  -9.42990536e-01,\n",
       "        -9.36549887e-01,  -9.29776486e-01,  -9.22672740e-01,\n",
       "        -9.15241173e-01,  -9.07484425e-01,  -8.99405252e-01,\n",
       "        -8.91006524e-01,  -8.82291226e-01,  -8.73262455e-01,\n",
       "        -8.63923417e-01,  -8.54277432e-01,  -8.44327926e-01,\n",
       "        -8.34078434e-01,  -8.23532598e-01,  -8.12694164e-01,\n",
       "        -8.01566985e-01,  -7.90155012e-01,  -7.78462302e-01,\n",
       "        -7.66493007e-01,  -7.54251381e-01,  -7.41741773e-01,\n",
       "        -7.28968627e-01,  -7.15936483e-01,  -7.02649970e-01,\n",
       "        -6.89113808e-01,  -6.75332808e-01,  -6.61311865e-01,\n",
       "        -6.47055962e-01,  -6.32570162e-01,  -6.17859613e-01,\n",
       "        -6.02929542e-01,  -5.87785252e-01,  -5.72432126e-01,\n",
       "        -5.56875616e-01,  -5.41121252e-01,  -5.25174630e-01,\n",
       "        -5.09041416e-01,  -4.92727342e-01,  -4.76238204e-01,\n",
       "        -4.59579861e-01,  -4.42758231e-01,  -4.25779292e-01,\n",
       "        -4.08649075e-01,  -3.91373667e-01,  -3.73959206e-01,\n",
       "        -3.56411879e-01,  -3.38737920e-01,  -3.20943610e-01,\n",
       "        -3.03035270e-01,  -2.85019262e-01,  -2.66901989e-01,\n",
       "        -2.48689887e-01,  -2.30389427e-01,  -2.12007110e-01,\n",
       "        -1.93549468e-01,  -1.75023059e-01,  -1.56434465e-01,\n",
       "        -1.37790291e-01,  -1.19097160e-01,  -1.00361715e-01,\n",
       "        -8.15906116e-02,  -6.27905195e-02,  -4.39681183e-02,\n",
       "        -2.51300954e-02,  -6.28314397e-03,   1.25660399e-02,\n",
       "         3.14107591e-02,   5.02443182e-02,   6.90600257e-02,\n",
       "         8.78511966e-02,   1.06611154e-01,   1.25333234e-01,\n",
       "         1.44010783e-01,   1.62637165e-01,   1.81205764e-01,\n",
       "         1.99709981e-01,   2.18143241e-01,   2.36498997e-01,\n",
       "         2.54770726e-01,   2.72951936e-01,   2.91036167e-01,\n",
       "         3.09016994e-01,   3.26888030e-01,   3.44642923e-01,\n",
       "         3.62275367e-01,   3.79779096e-01,   3.97147891e-01,\n",
       "         4.14375581e-01,   4.31456046e-01,   4.48383216e-01,\n",
       "         4.65151078e-01,   4.81753674e-01,   4.98185105e-01,\n",
       "         5.14439534e-01,   5.30511184e-01,   5.46394347e-01,\n",
       "         5.62083378e-01,   5.77572703e-01,   5.92856820e-01,\n",
       "         6.07930298e-01,   6.22787780e-01,   6.37423990e-01,\n",
       "         6.51833725e-01,   6.66011867e-01,   6.79953379e-01,\n",
       "         6.93653306e-01,   7.07106781e-01,   7.20309025e-01,\n",
       "         7.33255346e-01,   7.45941145e-01,   7.58361915e-01,\n",
       "         7.70513243e-01,   7.82390811e-01,   7.93990399e-01,\n",
       "         8.05307886e-01,   8.16339251e-01,   8.27080574e-01,\n",
       "         8.37528040e-01,   8.47677936e-01,   8.57526656e-01,\n",
       "         8.67070701e-01,   8.76306680e-01,   8.85231311e-01,\n",
       "         8.93841424e-01,   9.02133959e-01,   9.10105971e-01,\n",
       "         9.17754626e-01,   9.25077207e-01,   9.32071112e-01,\n",
       "         9.38733858e-01,   9.45063075e-01,   9.51056516e-01,\n",
       "         9.56712052e-01,   9.62027672e-01,   9.67001488e-01,\n",
       "         9.71631733e-01,   9.75916762e-01,   9.79855052e-01,\n",
       "         9.83445205e-01,   9.86685944e-01,   9.89576119e-01,\n",
       "         9.92114701e-01,   9.94300790e-01,   9.96133609e-01,\n",
       "         9.97612506e-01,   9.98736957e-01,   9.99506560e-01,\n",
       "         9.99921044e-01,   9.99980261e-01,   9.99684189e-01,\n",
       "         9.99032935e-01,   9.98026728e-01,   9.96665928e-01,\n",
       "         9.94951017e-01,   9.92882605e-01,   9.90461426e-01,\n",
       "         9.87688341e-01,   9.84564335e-01,   9.81090517e-01,\n",
       "         9.77268124e-01,   9.73098511e-01,   9.68583161e-01,\n",
       "         9.63723678e-01,   9.58521789e-01,   9.52979342e-01,\n",
       "         9.47098305e-01,   9.40880769e-01,   9.34328942e-01,\n",
       "         9.27445153e-01,   9.20231847e-01,   9.12691587e-01,\n",
       "         9.04827052e-01,   8.96641037e-01,   8.88136449e-01,\n",
       "         8.79316310e-01,   8.70183755e-01,   8.60742027e-01,\n",
       "         8.50994482e-01,   8.40944582e-01,   8.30595899e-01,\n",
       "         8.19952109e-01,   8.09016994e-01,   7.97794440e-01,\n",
       "         7.86288432e-01,   7.74503060e-01,   7.62442511e-01,\n",
       "         7.50111070e-01,   7.37513117e-01,   7.24653130e-01,\n",
       "         7.11535677e-01,   6.98165419e-01,   6.84547106e-01,\n",
       "         6.70685577e-01,   6.56585756e-01,   6.42252653e-01,\n",
       "         6.27691361e-01,   6.12907054e-01,   5.97904983e-01,\n",
       "         5.82690480e-01,   5.67268949e-01,   5.51645871e-01,\n",
       "         5.35826795e-01,   5.19817343e-01,   5.03623202e-01,\n",
       "         4.87250126e-01,   4.70703932e-01,   4.53990500e-01,\n",
       "         4.37115767e-01,   4.20085728e-01,   4.02906436e-01,\n",
       "         3.85583992e-01,   3.68124553e-01,   3.50534320e-01,\n",
       "         3.32819545e-01,   3.14986520e-01,   2.97041582e-01,\n",
       "         2.78991106e-01,   2.60841506e-01,   2.42599231e-01,\n",
       "         2.24270761e-01,   2.05862609e-01,   1.87381315e-01,\n",
       "         1.68833445e-01,   1.50225589e-01,   1.31564359e-01,\n",
       "         1.12856385e-01,   9.41083133e-02,   7.53268055e-02,\n",
       "         5.65185345e-02,   3.76901827e-02,   1.88484397e-02,\n",
       "         5.51091060e-16,  -1.88484397e-02,  -3.76901827e-02,\n",
       "        -5.65185345e-02,  -7.53268055e-02,  -9.41083133e-02,\n",
       "        -1.12856385e-01,  -1.31564359e-01,  -1.50225589e-01,\n",
       "        -1.68833445e-01,  -1.87381315e-01,  -2.05862609e-01,\n",
       "        -2.24270761e-01,  -2.42599231e-01,  -2.60841506e-01,\n",
       "        -2.78991106e-01,  -2.97041582e-01,  -3.14986520e-01,\n",
       "        -3.32819545e-01,  -3.50534320e-01,  -3.68124553e-01,\n",
       "        -3.85583992e-01,  -4.02906436e-01,  -4.20085728e-01,\n",
       "        -4.37115767e-01,  -4.53990500e-01,  -4.70703932e-01,\n",
       "        -4.87250126e-01,  -5.03623202e-01,  -5.19817343e-01,\n",
       "        -5.35826795e-01,  -5.51645871e-01,  -5.67268949e-01,\n",
       "        -5.82690480e-01,  -5.97904983e-01,  -6.12907054e-01,\n",
       "        -6.27691361e-01,  -6.42252653e-01,  -6.56585756e-01,\n",
       "        -6.70685577e-01,  -6.84547106e-01,  -6.98165419e-01,\n",
       "        -7.11535677e-01,  -7.24653130e-01,  -7.37513117e-01,\n",
       "        -7.50111070e-01,  -7.62442511e-01,  -7.74503060e-01,\n",
       "        -7.86288432e-01,  -7.97794440e-01,  -8.09016994e-01,\n",
       "        -8.19952109e-01,  -8.30595899e-01,  -8.40944582e-01,\n",
       "        -8.50994482e-01,  -8.60742027e-01,  -8.70183755e-01,\n",
       "        -8.79316310e-01,  -8.88136449e-01,  -8.96641037e-01,\n",
       "        -9.04827052e-01,  -9.12691587e-01,  -9.20231847e-01,\n",
       "        -9.27445153e-01,  -9.34328942e-01,  -9.40880769e-01,\n",
       "        -9.47098305e-01,  -9.52979342e-01,  -9.58521789e-01,\n",
       "        -9.63723678e-01,  -9.68583161e-01,  -9.73098511e-01,\n",
       "        -9.77268124e-01,  -9.81090517e-01,  -9.84564335e-01,\n",
       "        -9.87688341e-01,  -9.90461426e-01,  -9.92882605e-01,\n",
       "        -9.94951017e-01,  -9.96665928e-01,  -9.98026728e-01,\n",
       "        -9.99032935e-01,  -9.99684189e-01,  -9.99980261e-01,\n",
       "        -9.99921044e-01,  -9.99506560e-01,  -9.98736957e-01,\n",
       "        -9.97612506e-01,  -9.96133609e-01,  -9.94300790e-01,\n",
       "        -9.92114701e-01,  -9.89576119e-01,  -9.86685944e-01,\n",
       "        -9.83445205e-01,  -9.79855052e-01,  -9.75916762e-01,\n",
       "        -9.71631733e-01,  -9.67001488e-01,  -9.62027672e-01,\n",
       "        -9.56712052e-01,  -9.51056516e-01,  -9.45063075e-01,\n",
       "        -9.38733858e-01,  -9.32071112e-01,  -9.25077207e-01,\n",
       "        -9.17754626e-01,  -9.10105971e-01,  -9.02133959e-01,\n",
       "        -8.93841424e-01,  -8.85231311e-01,  -8.76306680e-01,\n",
       "        -8.67070701e-01,  -8.57526656e-01,  -8.47677936e-01,\n",
       "        -8.37528040e-01,  -8.27080574e-01,  -8.16339251e-01,\n",
       "        -8.05307886e-01,  -7.93990399e-01,  -7.82390811e-01,\n",
       "        -7.70513243e-01,  -7.58361915e-01,  -7.45941145e-01,\n",
       "        -7.33255346e-01,  -7.20309025e-01,  -7.07106781e-01,\n",
       "        -6.93653306e-01,  -6.79953379e-01,  -6.66011867e-01,\n",
       "        -6.51833725e-01,  -6.37423990e-01,  -6.22787780e-01,\n",
       "        -6.07930298e-01,  -5.92856820e-01,  -5.77572703e-01,\n",
       "        -5.62083378e-01,  -5.46394347e-01,  -5.30511184e-01,\n",
       "        -5.14439534e-01,  -4.98185105e-01,  -4.81753674e-01,\n",
       "        -4.65151078e-01,  -4.48383216e-01,  -4.31456046e-01,\n",
       "        -4.14375581e-01,  -3.97147891e-01,  -3.79779096e-01,\n",
       "        -3.62275367e-01,  -3.44642923e-01,  -3.26888030e-01,\n",
       "        -3.09016994e-01,  -2.91036167e-01,  -2.72951936e-01,\n",
       "        -2.54770726e-01,  -2.36498997e-01,  -2.18143241e-01,\n",
       "        -1.99709981e-01,  -1.81205764e-01,  -1.62637165e-01,\n",
       "        -1.44010783e-01,  -1.25333234e-01,  -1.06611154e-01,\n",
       "        -8.78511966e-02,  -6.90600257e-02,  -5.02443182e-02,\n",
       "        -3.14107591e-02,  -1.25660399e-02,   6.28314397e-03,\n",
       "         2.51300954e-02,   4.39681183e-02,   6.27905195e-02,\n",
       "         8.15906116e-02,   1.00361715e-01,   1.19097160e-01,\n",
       "         1.37790291e-01,   1.56434465e-01,   1.75023059e-01,\n",
       "         1.93549468e-01,   2.12007110e-01,   2.30389427e-01,\n",
       "         2.48689887e-01,   2.66901989e-01,   2.85019262e-01,\n",
       "         3.03035270e-01,   3.20943610e-01,   3.38737920e-01,\n",
       "         3.56411879e-01,   3.73959206e-01,   3.91373667e-01,\n",
       "         4.08649075e-01,   4.25779292e-01,   4.42758231e-01,\n",
       "         4.59579861e-01,   4.76238204e-01,   4.92727342e-01,\n",
       "         5.09041416e-01,   5.25174630e-01,   5.41121252e-01,\n",
       "         5.56875616e-01,   5.72432126e-01,   5.87785252e-01,\n",
       "         6.02929542e-01,   6.17859613e-01,   6.32570162e-01,\n",
       "         6.47055962e-01,   6.61311865e-01,   6.75332808e-01,\n",
       "         6.89113808e-01,   7.02649970e-01,   7.15936483e-01,\n",
       "         7.28968627e-01,   7.41741773e-01,   7.54251381e-01,\n",
       "         7.66493007e-01,   7.78462302e-01,   7.90155012e-01,\n",
       "         8.01566985e-01,   8.12694164e-01,   8.23532598e-01,\n",
       "         8.34078434e-01,   8.44327926e-01,   8.54277432e-01,\n",
       "         8.63923417e-01,   8.73262455e-01,   8.82291226e-01,\n",
       "         8.91006524e-01,   8.99405252e-01,   9.07484425e-01,\n",
       "         9.15241173e-01,   9.22672740e-01,   9.29776486e-01,\n",
       "         9.36549887e-01,   9.42990536e-01,   9.49096145e-01,\n",
       "         9.54864545e-01,   9.60293686e-01,   9.65381639e-01,\n",
       "         9.70126596e-01,   9.74526873e-01,   9.78580904e-01,\n",
       "         9.82287251e-01,   9.85644595e-01,   9.88651745e-01,\n",
       "         9.91307631e-01,   9.93611311e-01,   9.95561965e-01,\n",
       "         9.97158900e-01,   9.98401550e-01,   9.99289473e-01,\n",
       "         9.99822352e-01])"
      ]
     },
     "execution_count": 34,
     "metadata": {},
     "output_type": "execute_result"
    }
   ],
   "source": [
    "x"
   ]
  },
  {
   "cell_type": "code",
   "execution_count": 35,
   "metadata": {
    "collapsed": false
   },
   "outputs": [
    {
     "name": "stderr",
     "output_type": "stream",
     "text": [
      "D:\\Programs\\Anaconda3\\lib\\site-packages\\ipykernel\\__main__.py:1: RuntimeWarning: invalid value encountered in sqrt\n",
      "  if __name__ == '__main__':\n"
     ]
    }
   ],
   "source": [
    "x = np.sqrt(x)"
   ]
  },
  {
   "cell_type": "code",
   "execution_count": 36,
   "metadata": {
    "collapsed": true
   },
   "outputs": [],
   "source": [
    "t = np.arange(1000, dtype=float)"
   ]
  },
  {
   "cell_type": "code",
   "execution_count": 37,
   "metadata": {
    "collapsed": true
   },
   "outputs": [],
   "source": [
    "t = t / 1000.0"
   ]
  },
  {
   "cell_type": "code",
   "execution_count": 38,
   "metadata": {
    "collapsed": true
   },
   "outputs": [],
   "source": [
    " x = np.cos(2*np.pi*3*t )"
   ]
  },
  {
   "cell_type": "code",
   "execution_count": 39,
   "metadata": {
    "collapsed": false
   },
   "outputs": [],
   "source": [
    "t2 = np.arange(0,1, 0.001)"
   ]
  },
  {
   "cell_type": "code",
   "execution_count": 40,
   "metadata": {
    "collapsed": false
   },
   "outputs": [],
   "source": [
    "import matplotlib.pyplot as plt"
   ]
  },
  {
   "cell_type": "code",
   "execution_count": 45,
   "metadata": {
    "collapsed": false
   },
   "outputs": [
    {
     "data": {
      "text/plain": [
       "[<matplotlib.lines.Line2D at 0x20fba36ca90>]"
      ]
     },
     "execution_count": 45,
     "metadata": {},
     "output_type": "execute_result"
    }
   ],
   "source": [
    "plt.plot(t,x)"
   ]
  },
  {
   "cell_type": "code",
   "execution_count": 42,
   "metadata": {
    "collapsed": false
   },
   "outputs": [],
   "source": [
    "x = np.cos(2*np.pi*3*t2)"
   ]
  },
  {
   "cell_type": "code",
   "execution_count": 43,
   "metadata": {
    "collapsed": false
   },
   "outputs": [
    {
     "data": {
      "text/plain": [
       "[<matplotlib.lines.Line2D at 0x20fba23d668>]"
      ]
     },
     "execution_count": 43,
     "metadata": {},
     "output_type": "execute_result"
    }
   ],
   "source": [
    "plt.plot(t,x)"
   ]
  },
  {
   "cell_type": "code",
   "execution_count": 46,
   "metadata": {
    "collapsed": false
   },
   "outputs": [
    {
     "data": {
      "image/png": "[encoded data removed]",
      "text/plain": [
       "<matplotlib.figure.Figure at 0x20fba2e4d30>"
      ]
     },
     "metadata": {},
     "output_type": "display_data"
    }
   ],
   "source": [
    "plt.show()"
   ]
  },
  {
   "cell_type": "code",
   "execution_count": null,
   "metadata": {
    "collapsed": true
   },
   "outputs": [],
   "source": []
  },
  {
   "cell_type": "code",
   "execution_count": null,
   "metadata": {
    "collapsed": true
   },
   "outputs": [],
   "source": []
  }
 ],
 "metadata": {
  "anaconda-cloud": {},
  "kernelspec": {
   "display_name": "Python 3",
   "language": "python",
   "name": "python3"
  },
  "language_info": {
   "codemirror_mode": {
    "name": "ipython",
    "version": 3
   },
   "file_extension": ".py",
   "mimetype": "text/x-python",
   "name": "python",
   "nbconvert_exporter": "python",
   "pygments_lexer": "ipython3",
   "version": "3.6.0"
  }
 },
 "nbformat": 4,
 "nbformat_minor": 0
}
