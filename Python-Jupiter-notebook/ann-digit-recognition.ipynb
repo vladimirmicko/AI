{
 "cells": [
  {
   "cell_type": "markdown",
   "metadata": {},
   "source": [
    "### Import packages"
   ]
  },
  {
   "cell_type": "code",
   "execution_count": 1,
   "metadata": {
    "collapsed": false
   },
   "outputs": [],
   "source": [
    "from sklearn.model_selection import train_test_split\n",
    "from sklearn.metrics import accuracy_score\n",
    "from sklearn.metrics import confusion_matrix\n",
    "from sklearn.model_selection import GridSearchCV\n",
    "from sklearn.neural_network import MLPClassifier\n",
    "import matplotlib.image as mpimg\n",
    "import matplotlib.pyplot as plt\n",
    "import numpy as np\n",
    "import pandas as pd\n",
    "# show image inline\n",
    "%matplotlib inline"
   ]
  },
  {
   "cell_type": "markdown",
   "metadata": {},
   "source": [
    "### Load dataset"
   ]
  },
  {
   "cell_type": "code",
   "execution_count": 2,
   "metadata": {
    "collapsed": true
   },
   "outputs": [],
   "source": [
    "label = pd.read_csv('./dataset/label.csv')\n",
    "y = label['digit']"
   ]
  },
  {
   "cell_type": "code",
   "execution_count": 3,
   "metadata": {
    "collapsed": false
   },
   "outputs": [],
   "source": [
    "image_list = []\n",
    "for name in label['name of the file']:\n",
    "    path = './dataset/Digit/' + str(name) + '.jpg'\n",
    "    img = mpimg.imread(path)\n",
    "    image_list.append(img.flatten())\n",
    "\n",
    "X = pd.DataFrame(image_list);"
   ]
  },
  {
   "cell_type": "code",
   "execution_count": 4,
   "metadata": {
    "collapsed": false
   },
   "outputs": [
    {
     "name": "stdout",
     "output_type": "stream",
     "text": [
      "image data shape: (1797, 64)\n",
      "label data shaoe: (1797,)\n"
     ]
    }
   ],
   "source": [
    "print(\"image data shape:\",X.shape)\n",
    "print(\"label data shaoe:\",y.shape)"
   ]
  },
  {
   "cell_type": "markdown",
   "metadata": {},
   "source": [
    "### Split data into training and testing data"
   ]
  },
  {
   "cell_type": "code",
   "execution_count": 5,
   "metadata": {
    "collapsed": true
   },
   "outputs": [],
   "source": [
    "X_train, X_test, label_train, label_test = train_test_split(X, label,  test_size=0.1, random_state=2)\n",
    "y_train = label_train['digit']\n",
    "y_test = label_test['digit']\n",
    "y_test_name = label_test['name of the file']"
   ]
  },
  {
   "cell_type": "markdown",
   "metadata": {},
   "source": [
    "### Create ANN model"
   ]
  },
  {
   "cell_type": "code",
   "execution_count": 6,
   "metadata": {
    "collapsed": true
   },
   "outputs": [],
   "source": [
    "ann = MLPClassifier(hidden_layer_sizes=(80,), # one hidden layer with 80 neurons\n",
    "                    activation='logistic', # logistic sigmoid function\n",
    "                    solver='adam', # stochastic gradient descent\n",
    "                    alpha=1e-5, # regularization\n",
    "                    random_state=1,\n",
    "                    learning_rate_init = 0.002)"
   ]
  },
  {
   "cell_type": "markdown",
   "metadata": {},
   "source": [
    "### Train ANN model"
   ]
  },
  {
   "cell_type": "code",
   "execution_count": 7,
   "metadata": {
    "collapsed": false
   },
   "outputs": [
    {
     "data": {
      "text/plain": [
       "MLPClassifier(activation='logistic', alpha=1e-05, batch_size='auto',\n",
       "       beta_1=0.9, beta_2=0.999, early_stopping=False, epsilon=1e-08,\n",
       "       hidden_layer_sizes=(80,), learning_rate='constant',\n",
       "       learning_rate_init=0.002, max_iter=200, momentum=0.9,\n",
       "       nesterovs_momentum=True, power_t=0.5, random_state=1, shuffle=True,\n",
       "       solver='adam', tol=0.0001, validation_fraction=0.1, verbose=False,\n",
       "       warm_start=False)"
      ]
     },
     "execution_count": 7,
     "metadata": {},
     "output_type": "execute_result"
    }
   ],
   "source": [
    "ann.fit(X_train, y_train)"
   ]
  },
  {
   "cell_type": "markdown",
   "metadata": {},
   "source": [
    "### Make prediction"
   ]
  },
  {
   "cell_type": "code",
   "execution_count": 8,
   "metadata": {
    "collapsed": false
   },
   "outputs": [],
   "source": [
    "y_predict = ann.predict(X_test)"
   ]
  },
  {
   "cell_type": "markdown",
   "metadata": {},
   "source": [
    "### Accuracy of prediction"
   ]
  },
  {
   "cell_type": "code",
   "execution_count": 9,
   "metadata": {
    "collapsed": false
   },
   "outputs": [
    {
     "name": "stdout",
     "output_type": "stream",
     "text": [
      "Accuracy score: 0.92\n"
     ]
    }
   ],
   "source": [
    "score = accuracy_score(y_test, y_predict)\n",
    "print(\"Accuracy score: %0.2f\" % score)"
   ]
  },
  {
   "cell_type": "markdown",
   "metadata": {},
   "source": [
    "### Using GridSearchCV to find best number of neurons"
   ]
  },
  {
   "cell_type": "code",
   "execution_count": 10,
   "metadata": {
    "collapsed": true
   },
   "outputs": [],
   "source": [
    "# create a new ann classifier\n",
    "ann = MLPClassifier(activation='logistic',\n",
    "                    solver='adam',\n",
    "                    alpha=1e-5,\n",
    "                    random_state=1,\n",
    "                    learning_rate_init = 0.002)\n",
    "\n",
    "# set neurons of hidden layer to numbers between 50 and 200\n",
    "params = { 'hidden_layer_sizes' : [[i] for i in range(50, 200)] }"
   ]
  },
  {
   "cell_type": "code",
   "execution_count": 11,
   "metadata": {
    "collapsed": true
   },
   "outputs": [],
   "source": [
    "# setup grid search and cross validation\n",
    "CV_ann = GridSearchCV(estimator=ann, param_grid=params, cv=10, scoring='accuracy')"
   ]
  },
  {
   "cell_type": "markdown",
   "metadata": {},
   "source": [
    "### Search for best hidden layer for ANN"
   ]
  },
  {
   "cell_type": "code",
   "execution_count": 12,
   "metadata": {
    "collapsed": false,
    "scrolled": true
   },
   "outputs": [],
   "source": [
    "CV_ann.fit(X, y);"
   ]
  },
  {
   "cell_type": "code",
   "execution_count": 13,
   "metadata": {
    "collapsed": false
   },
   "outputs": [
    {
     "name": "stdout",
     "output_type": "stream",
     "text": [
      "126\n"
     ]
    }
   ],
   "source": [
    "best_neurons = CV_ann.best_params_['hidden_layer_sizes'][0]\n",
    "print(best_neurons)"
   ]
  },
  {
   "cell_type": "markdown",
   "metadata": {},
   "source": [
    "### Accuracy score by using one hidden layer and 126 neurons"
   ]
  },
  {
   "cell_type": "code",
   "execution_count": 14,
   "metadata": {
    "collapsed": true
   },
   "outputs": [],
   "source": [
    "ann = MLPClassifier(hidden_layer_sizes=(126,),\n",
    "                    activation='logistic',\n",
    "                    solver='adam',\n",
    "                    alpha=1e-5,\n",
    "                    random_state=1,\n",
    "                    learning_rate_init = 0.002)\n",
    "ann.fit(X_train, y_train)\n",
    "y_predict = ann.predict(X_test)"
   ]
  },
  {
   "cell_type": "code",
   "execution_count": 15,
   "metadata": {
    "collapsed": false
   },
   "outputs": [
    {
     "name": "stdout",
     "output_type": "stream",
     "text": [
      "Accuracy score: 0.93\n"
     ]
    }
   ],
   "source": [
    "score = accuracy_score(y_test, y_predict)\n",
    "print(\"Accuracy score: %0.2f\" % score)"
   ]
  },
  {
   "cell_type": "markdown",
   "metadata": {},
   "source": [
    "### Confusion Matrix"
   ]
  },
  {
   "cell_type": "code",
   "execution_count": 16,
   "metadata": {
    "collapsed": false,
    "scrolled": false
   },
   "outputs": [
    {
     "data": {
      "text/plain": [
       "array([[14,  0,  0,  0,  0,  0,  0,  0,  0,  0],\n",
       "       [ 0, 21,  0,  0,  0,  0,  0,  0,  0,  1],\n",
       "       [ 0,  0, 14,  0,  0,  0,  0,  0,  0,  0],\n",
       "       [ 0,  0,  0, 21,  0,  0,  0,  1,  0,  0],\n",
       "       [ 0,  0,  0,  0, 16,  0,  0,  1,  3,  1],\n",
       "       [ 0,  0,  0,  0,  0, 16,  0,  0,  0,  0],\n",
       "       [ 0,  1,  0,  0,  0,  0, 17,  0,  0,  0],\n",
       "       [ 0,  0,  0,  0,  0,  0,  0, 17,  1,  0],\n",
       "       [ 0,  2,  0,  0,  0,  0,  0,  0, 16,  1],\n",
       "       [ 0,  0,  0,  0,  0,  0,  0,  0,  1, 15]])"
      ]
     },
     "execution_count": 16,
     "metadata": {},
     "output_type": "execute_result"
    }
   ],
   "source": [
    "confusion_matrix(y_test, y_predict)"
   ]
  },
  {
   "cell_type": "markdown",
   "metadata": {},
   "source": [
    "### Print misclassified images"
   ]
  },
  {
   "cell_type": "code",
   "execution_count": 17,
   "metadata": {
    "collapsed": false
   },
   "outputs": [],
   "source": [
    "def show_image(image_name, title):\n",
    "    file_name = './dataset/Digit/' + str(image_name) + '.jpg'\n",
    "    img = mpimg.imread(file_name)\n",
    "    fig = plt.figure()\n",
    "    fig.suptitle(title, fontsize=14, fontweight='bold')\n",
    "    plt.imshow(img, cmap=plt.cm.gray_r, interpolation='nearest')\n",
    "    \n",
    "def show_misclassified_images(y_test, y_predict):\n",
    "    size = len(y_predict)\n",
    "    for i in range(0, size):\n",
    "        if y_test.iloc[i] != y_predict[i]:\n",
    "            title = \"Actual:\" + str(y_test.iloc[i]) \n",
    "            title += \" - Predicted:\" + str(y_predict[i])\n",
    "            show_image(y_test_name.iloc[i], title)"
   ]
  },
  {
   "cell_type": "code",
   "execution_count": 18,
   "metadata": {
    "collapsed": false
   },
   "outputs": [
    {
     "data": {
      "image/png": "[encoded data removed]",
      "text/plain": [
       "<matplotlib.figure.Figure at 0x112508c50>"
      ]
     },
     "metadata": {},
     "output_type": "display_data"
    },
    {
     "data": {
      "image/png": "[encoded data removed]",
      "text/plain": [
       "<matplotlib.figure.Figure at 0x107b6ec88>"
      ]
     },
     "metadata": {},
     "output_type": "display_data"
    },
    {
     "data": {
      "image/png": "[encoded data removed]",
      "text/plain": [
       "<matplotlib.figure.Figure at 0x1124f7e10>"
      ]
     },
     "metadata": {},
     "output_type": "display_data"
    },
    {
     "data": {
      "image/png": "[encoded data removed]",
      "text/plain": [
       "<matplotlib.figure.Figure at 0x1123235c0>"
      ]
     },
     "metadata": {},
     "output_type": "display_data"
    },
    {
     "data": {
      "image/png": "[encoded data removed]",
      "text/plain": [
       "<matplotlib.figure.Figure at 0x112453ac8>"
      ]
     },
     "metadata": {},
     "output_type": "display_data"
    },
    {
     "data": {
      "image/png": "[encoded data removed]",
      "text/plain": [
       "<matplotlib.figure.Figure at 0x115d80240>"
      ]
     },
     "metadata": {},
     "output_type": "display_data"
    },
    {
     "data": {
      "image/png": "[encoded data removed]",
      "text/plain": [
       "<matplotlib.figure.Figure at 0x115dae828>"
      ]
     },
     "metadata": {},
     "output_type": "display_data"
    },
    {
     "data": {
      "image/png": "[encoded data removed]",
      "text/plain": [
       "<matplotlib.figure.Figure at 0x112568f98>"
      ]
     },
     "metadata": {},
     "output_type": "display_data"
    },
    {
     "data": {
      "image/png": "[encoded data removed]",
      "text/plain": [
       "<matplotlib.figure.Figure at 0x1126f54a8>"
      ]
     },
     "metadata": {},
     "output_type": "display_data"
    },
    {
     "data": {
      "image/png": "[encoded data removed]",
      "text/plain": [
       "<matplotlib.figure.Figure at 0x112762c18>"
      ]
     },
     "metadata": {},
     "output_type": "display_data"
    },
    {
     "data": {
      "image/png": "[encoded data removed]",
      "text/plain": [
       "<matplotlib.figure.Figure at 0x1127ca128>"
      ]
     },
     "metadata": {},
     "output_type": "display_data"
    },
    {
     "data": {
      "image/png": "[encoded data removed]",
      "text/plain": [
       "<matplotlib.figure.Figure at 0x112836898>"
      ]
     },
     "metadata": {},
     "output_type": "display_data"
    },
    {
     "data": {
      "image/png": "[encoded data removed]",
      "text/plain": [
       "<matplotlib.figure.Figure at 0x112898d68>"
      ]
     },
     "metadata": {},
     "output_type": "display_data"
    }
   ],
   "source": [
    "show_misclassified_images(y_test, y_predict)"
   ]
  },
  {
   "cell_type": "markdown",
   "metadata": {},
   "source": [
    "### The highest accuracy i got by using ann with one hidden layer is 93%, and best number of neurons is 126.\n",
    "### Most digits are correctly classified, but the accuracy for '4' is only 76%.\n",
    "### It was misclassified five times, and three out of five times it was classified as '9'."
   ]
  }
 ],
 "metadata": {
  "kernelspec": {
   "display_name": "Python 3",
   "language": "python",
   "name": "python3"
  },
  "language_info": {
   "codemirror_mode": {
    "name": "ipython",
    "version": 3
   },
   "file_extension": ".py",
   "mimetype": "text/x-python",
   "name": "python",
   "nbconvert_exporter": "python",
   "pygments_lexer": "ipython3",
   "version": "3.6.0"
  }
 },
 "nbformat": 4,
 "nbformat_minor": 2
}
