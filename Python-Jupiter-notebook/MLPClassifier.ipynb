{
 "cells": [
  {
   "cell_type": "code",
   "execution_count": 32,
   "metadata": {
    "collapsed": false
   },
   "outputs": [
    {
     "name": "stdout",
     "output_type": "stream",
     "text": [
      "Success rate: 0.9666295884315906\n",
      "No of hits: 869\n",
      "No of test samples: 899\n"
     ]
    }
   ],
   "source": [
    "from sklearn.neural_network import MLPClassifier\n",
    "from sklearn import datasets\n",
    "import numpy as np\n",
    "import matplotlib.pyplot as plt\n",
    "\n",
    "digits = datasets.load_digits()\n",
    "X_digits = digits.data\n",
    "Y_digits = digits.target\n",
    "\n",
    "indAll = np.arange(len(Y_digits))\n",
    "np.random.shuffle(indAll)\n",
    "\n",
    "trainToTestRatio = 0.5\n",
    "trainX=X_digits[indAll[0:int(trainToTestRatio*len(indAll))]]\n",
    "testX=X_digits[indAll[int(trainToTestRatio*len(indAll)):]]\n",
    "trainY=Y_digits[indAll[0:int(trainToTestRatio*len(indAll))]]\n",
    "testY=Y_digits[indAll[int(trainToTestRatio*len(indAll)):]]\n",
    "\n",
    "learningCoeficient=0.01\n",
    "\n",
    "ann = MLPClassifier(hidden_layer_sizes=(64,48), # one hidden layer with 80 neurons\n",
    "                    activation='logistic', # logistic sigmoid function\n",
    "                    solver='adam', # stochastic gradient descent\n",
    "                    alpha=1e-5, # regularization\n",
    "                    random_state=1,\n",
    "                    learning_rate_init = 0.002)\n",
    "\n",
    "ann.fit(trainX, trainY)\n",
    "y_predict = ann.predict(testX)\n",
    "prediction_result=y_predict-testY\n",
    "hits = np.asarray(np.where(prediction_result==0))[0,:]\n",
    "success_rate=len(hits)/len(testY)\n",
    "print(\"Success rate: \"+str(success_rate))\n",
    "print(\"No of hits: \"+str(len(hits)))\n",
    "print(\"No of test samples: \"+str(len(testY)))\n"
   ]
  },
  {
   "cell_type": "code",
   "execution_count": null,
   "metadata": {
    "collapsed": true
   },
   "outputs": [],
   "source": []
  },
  {
   "cell_type": "code",
   "execution_count": null,
   "metadata": {
    "collapsed": true
   },
   "outputs": [],
   "source": []
  },
  {
   "cell_type": "code",
   "execution_count": null,
   "metadata": {
    "collapsed": true
   },
   "outputs": [],
   "source": []
  }
 ],
 "metadata": {
  "kernelspec": {
   "display_name": "Python 3",
   "language": "python",
   "name": "python3"
  },
  "language_info": {
   "codemirror_mode": {
    "name": "ipython",
    "version": 3
   },
   "file_extension": ".py",
   "mimetype": "text/x-python",
   "name": "python",
   "nbconvert_exporter": "python",
   "pygments_lexer": "ipython3",
   "version": "3.6.0"
  }
 },
 "nbformat": 4,
 "nbformat_minor": 2
}
