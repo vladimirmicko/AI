{
 "cells": [
  {
   "cell_type": "code",
   "execution_count": 41,
   "metadata": {
    "collapsed": false
   },
   "outputs": [
    {
     "name": "stdout",
     "output_type": "stream",
     "text": [
      "Success rate: 0.9632925472747497\n",
      "No of hits: 866\n",
      "No of test samples: 899\n"
     ]
    }
   ],
   "source": [
    "from sklearn.neural_network import MLPClassifier\n",
    "from sklearn import datasets\n",
    "import numpy as np\n",
    "import matplotlib.pyplot as plt\n",
    "\n",
    "digits = datasets.load_digits()\n",
    "X_digits = digits.data\n",
    "Y_digits = digits.target\n",
    "\n",
    "allSamples = np.arange(len(Y_digits))\n",
    "np.random.shuffle(allSamples)\n",
    "\n",
    "trainToTestRatio = 0.5\n",
    "trainX=X_digits[allSamples[0:int(trainToTestRatio*len(allSamples))]]\n",
    "testX=X_digits[allSamples[int(trainToTestRatio*len(allSamples)):]]\n",
    "trainY=Y_digits[allSamples[0:int(trainToTestRatio*len(allSamples))]]\n",
    "testY=Y_digits[allSamples[int(trainToTestRatio*len(allSamples)):]]\n",
    "\n",
    "ann = MLPClassifier(hidden_layer_sizes=(64,48), # one hidden layer with 80 neurons\n",
    "                    activation='logistic', # logistic sigmoid function\n",
    "                    solver='adam', # stochastic gradient descent\n",
    "                    alpha=1e-5, # regularization\n",
    "                    random_state=1,\n",
    "                    learning_rate_init = 0.002)\n",
    "\n",
    "ann.fit(trainX, trainY)\n",
    "prediction = ann.predict(testX)\n",
    "\n",
    "prediction_success=prediction-testY\n",
    "hits = np.asarray(np.where(prediction_success==0))[0,:]\n",
    "success_rate=len(hits)/len(testY)\n",
    "\n",
    "print(\"Success rate: \"+str(success_rate))\n",
    "print(\"No of hits: \"+str(len(hits)))\n",
    "print(\"No of test samples: \"+str(len(testY)))"
   ]
  },
  {
   "cell_type": "code",
   "execution_count": null,
   "metadata": {
    "collapsed": true
   },
   "outputs": [],
   "source": []
  },
  {
   "cell_type": "code",
   "execution_count": null,
   "metadata": {
    "collapsed": true
   },
   "outputs": [],
   "source": []
  }
 ],
 "metadata": {
  "kernelspec": {
   "display_name": "Python 3",
   "language": "python",
   "name": "python3"
  },
  "language_info": {
   "codemirror_mode": {
    "name": "ipython",
    "version": 3
   },
   "file_extension": ".py",
   "mimetype": "text/x-python",
   "name": "python",
   "nbconvert_exporter": "python",
   "pygments_lexer": "ipython3",
   "version": "3.6.0"
  }
 },
 "nbformat": 4,
 "nbformat_minor": 2
}
