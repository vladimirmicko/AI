{
 "cells": [
  {
   "cell_type": "code",
   "execution_count": 11,
   "metadata": {
    "collapsed": false
   },
   "outputs": [
    {
     "name": "stdout",
     "output_type": "stream",
     "text": [
      "Accuracy score: 0.97\n",
      "Success rate: 0.9655172413793104\n",
      "No of hits: 868\n",
      "No of test samples: 899\n",
      "Confusion matrix: \n",
      "[[94  0  0  0  0  0  1  0  0  0]\n",
      " [ 0 88  1  0  0  0  0  0  0  0]\n",
      " [ 0  3 89  1  0  0  0  0  0  0]\n",
      " [ 0  0  0 83  0  2  0  0  0  0]\n",
      " [ 0  1  0  0 77  0  0  0  2  1]\n",
      " [ 0  0  0  0  0 97  0  0  1  3]\n",
      " [ 1  1  0  0  1  0 90  0  0  0]\n",
      " [ 0  0  0  0  0  0  0 90  0  0]\n",
      " [ 0  8  0  0  0  0  0  0 84  1]\n",
      " [ 0  0  0  0  0  0  0  2  1 76]]\n",
      "Shape of weight matrices: [(64, 64), (64, 48), (48, 10)]\n",
      "ANN parameters: \n"
     ]
    },
    {
     "data": {
      "text/plain": [
       "{'activation': 'logistic',\n",
       " 'alpha': 1e-05,\n",
       " 'batch_size': 'auto',\n",
       " 'beta_1': 0.9,\n",
       " 'beta_2': 0.999,\n",
       " 'early_stopping': False,\n",
       " 'epsilon': 1e-08,\n",
       " 'hidden_layer_sizes': (64, 48),\n",
       " 'learning_rate': 'constant',\n",
       " 'learning_rate_init': 0.002,\n",
       " 'max_iter': 200,\n",
       " 'momentum': 0.9,\n",
       " 'nesterovs_momentum': True,\n",
       " 'power_t': 0.5,\n",
       " 'random_state': 1,\n",
       " 'shuffle': True,\n",
       " 'solver': 'adam',\n",
       " 'tol': 0.0001,\n",
       " 'validation_fraction': 0.1,\n",
       " 'verbose': False,\n",
       " 'warm_start': False}"
      ]
     },
     "execution_count": 11,
     "metadata": {},
     "output_type": "execute_result"
    }
   ],
   "source": [
    "from sklearn.neural_network import MLPClassifier\n",
    "from sklearn import datasets\n",
    "from sklearn.metrics import confusion_matrix\n",
    "from sklearn.metrics import accuracy_score\n",
    "from sklearn.model_selection import GridSearchCV\n",
    "import numpy as np\n",
    "import matplotlib.pyplot as plt\n",
    "\n",
    "np.random.seed(1)\n",
    "np.set_printoptions(threshold=np.nan)\n",
    "\n",
    "digits = datasets.load_digits()\n",
    "X_digits = digits.data\n",
    "Y_digits = digits.target\n",
    "\n",
    "allSamples = np.arange(len(Y_digits))\n",
    "np.random.shuffle(allSamples)\n",
    "\n",
    "trainToTestRatio = 0.5\n",
    "trainX=X_digits[allSamples[0:int(trainToTestRatio*len(allSamples))]]\n",
    "testX=X_digits[allSamples[int(trainToTestRatio*len(allSamples)):]]\n",
    "trainY=Y_digits[allSamples[0:int(trainToTestRatio*len(allSamples))]]\n",
    "testY=Y_digits[allSamples[int(trainToTestRatio*len(allSamples)):]]\n",
    "\n",
    "ann = MLPClassifier(hidden_layer_sizes=(64,48), # one hidden layer with 80 neurons\n",
    "                    activation='logistic', # logistic sigmoid function\n",
    "                    solver='adam', # stochastic gradient descent\n",
    "                    alpha=1e-5, # regularization\n",
    "                    verbose=False,\n",
    "                    random_state=1,\n",
    "                    learning_rate_init = 0.002)\n",
    "\n",
    "ann.fit(trainX, trainY)\n",
    "prediction = ann.predict(testX)\n",
    "\n",
    "score = accuracy_score(testY, prediction)\n",
    "print(\"Accuracy score: %0.2f\" % score)\n",
    "\n",
    "prediction_success=prediction-testY\n",
    "hits = np.asarray(np.where(prediction_success==0))[0,:]\n",
    "success_rate=len(hits)/len(testY)\n",
    "\n",
    "print(\"Success rate: \"+str(success_rate))\n",
    "print(\"No of hits: \"+str(len(hits)))\n",
    "print(\"No of test samples: \"+str(len(testY)))\n",
    "\n",
    "print(\"Confusion matrix: \")\n",
    "print(confusion_matrix(testY, prediction))\n",
    "print(\"Shape of weight matrices: \" + str([coef.shape for coef in ann.coefs_]))\n",
    "\n",
    "print(\"ANN parameters: \")\n",
    "ann.get_params()"
   ]
  }
 ],
 "metadata": {
  "kernelspec": {
   "display_name": "Python 3",
   "language": "python",
   "name": "python3"
  },
  "language_info": {
   "codemirror_mode": {
    "name": "ipython",
    "version": 3
   },
   "file_extension": ".py",
   "mimetype": "text/x-python",
   "name": "python",
   "nbconvert_exporter": "python",
   "pygments_lexer": "ipython3",
   "version": "3.6.0"
  }
 },
 "nbformat": 4,
 "nbformat_minor": 2
}
