{
 "cells": [
  {
   "cell_type": "code",
   "execution_count": 77,
   "metadata": {
    "collapsed": false
   },
   "outputs": [
    {
     "name": "stdout",
     "output_type": "stream",
     "text": [
      "target.shape: (1797, 1)\n",
      "-----------------------\n",
      "(3, 64, 64)\n",
      "(3, 64)\n",
      "(3, 64)\n",
      "(3, 64)\n",
      "(1437, 64)\n",
      "(1437,)\n",
      "(360, 64)\n",
      "(360,)\n",
      "Error on epoch: 0 = 0.0\n",
      "Error on epoch: 1 = 0.0\n",
      "Error on epoch: 2 = 0.0\n",
      "Error on epoch: 3 = 0.0\n",
      "Error on epoch: 4 = 0.0\n",
      "Error on epoch: 5 = 0.0\n",
      "Error on epoch: 6 = 0.0\n",
      "Error on epoch: 7 = 0.0\n",
      "Error on epoch: 8 = 0.0\n",
      "Error on epoch: 9 = 0.0\n"
     ]
    }
   ],
   "source": [
    "import matplotlib.pyplot as plt\n",
    "import numpy as np\n",
    "import sklearn as sk\n",
    "import math\n",
    "from sklearn.cluster import KMeans\n",
    "from matplotlib import pyplot as plt\n",
    "from sklearn.decomposition import PCA\n",
    "from sklearn.discriminant_analysis import LinearDiscriminantAnalysis\n",
    "from sklearn import datasets\n",
    "from random import *\n",
    "\n",
    "np.set_printoptions(threshold=np.nan)\n",
    "\n",
    "# Datasets definition\n",
    "# -------------------------------------------------------------------------------------------------------\n",
    "digits = datasets.load_digits()\n",
    "X_digits = digits.data\n",
    "Y_digits = digits.target\n",
    "\n",
    "indAll = np.arange(len(Y_digits))\n",
    "np.random.shuffle(indAll)\n",
    "\n",
    "testToTrainRatio = 0.8\n",
    "trainX=X_digits[0:int(testToTrainRatio*len(indAll))]\n",
    "testX=X_digits[int(testToTrainRatio*len(indAll)):]\n",
    "trainY=Y_digits[0:int(testToTrainRatio*len(indAll))]\n",
    "testY=Y_digits[int(testToTrainRatio*len(indAll)):]\n",
    "\n",
    "trainingDataset=X_digits\n",
    "target=Y_digits\n",
    "testingDataset=X_digits\n",
    "testingTarget=Y_digits\n",
    "\n",
    "target = [[target[i] for j in range(1)] for i in range(len(target))]\n",
    "target=np.asarray(target)\n",
    "print(\"target.shape: \"+str(target.shape))\n",
    " \n",
    "numberOfLayerNodes=[64,32,1]\n",
    "learningCoeffitient=0.01\n",
    "\n",
    "weights = np.zeros((len(numberOfLayerNodes), np.amax(numberOfLayerNodes),np.amax(numberOfLayerNodes)))\n",
    "nodes = np.zeros((len(numberOfLayerNodes), np.amax(numberOfLayerNodes)))\n",
    "weightedSums = np.zeros((len(numberOfLayerNodes), np.amax(numberOfLayerNodes)))\n",
    "errors = np.zeros((len(numberOfLayerNodes), np.amax(numberOfLayerNodes)))\n",
    "rowError = 0\n",
    "epochError = 0\n",
    "currentDatasetRow = 0\n",
    "                 \n",
    "    \n",
    "def populateWeightsWithRandom():\n",
    "    global weights\n",
    "    for z in range(1, len(numberOfLayerNodes)):\n",
    "        for y in range(0, len(weights[0])):\n",
    "            for x in range(0, len(weights[0][0])):\n",
    "                weights[z][y][x] = random() * 2 - 1    \n",
    "    \n",
    "    \n",
    "def calculateHiddenLayer(layerNumber):\n",
    "    ws = 0\n",
    "    for x in range(0,numberOfLayerNodes[layerNumber]):\n",
    "        ws = 0\n",
    "        for px in range(0, numberOfLayerNodes[layerNumber - 1]):\n",
    "            ws = ws + nodes[layerNumber - 1][px] * weights[layerNumber][x][px]\n",
    "            weightedSums[layerNumber][x] = ws\n",
    "            nodes[layerNumber][x] = activationFunction(ws)\n",
    "\n",
    "def activationFunction(ws):\n",
    "    value = 0\n",
    "    value = 1 / (1 + math.exp(-ws))\n",
    "    return value                \n",
    "       \n",
    "\n",
    "def derivative(value):\n",
    "    value = activationFunction(value) - math.pow(activationFunction(value), 2)\n",
    "    return value\n",
    "    \n",
    "    \n",
    "def calculateOutput():\n",
    "    ws = 0\n",
    "    sumOutputs = 0\n",
    "    layerNumber = len(numberOfLayerNodes)-1\n",
    "    for x in range(0, numberOfLayerNodes[layerNumber]):\n",
    "        ws = 0\n",
    "        for px in range(0, numberOfLayerNodes[layerNumber - 1]):\n",
    "            ws = ws + nodes[layerNumber - 1][px] * weights[layerNumber][x][px]\n",
    "\n",
    "        nodes[layerNumber][x] = ws\n",
    "        weightedSums[layerNumber][x] = ws\n",
    "        sumOutputs = sumOutputs + math.exp(nodes[layerNumber][x])\n",
    "\n",
    "    for x in range(0, numberOfLayerNodes[layerNumber]):\n",
    "        nodes[layerNumber][x] = math.exp(nodes[layerNumber][x]) / sumOutputs\n",
    "\n",
    "            \n",
    "def calculateErrors():\n",
    "    rowError=0\n",
    "    layerNumber = len(numberOfLayerNodes)-1\n",
    "    for x in range(0, numberOfLayerNodes[layerNumber]):\n",
    "#         print(\"-------------------------------------------- Debug\")\n",
    "#         print(\"layerNumber: \"+str(layerNumber))\n",
    "#         print(\"x: \"+ str(x))\n",
    "#         print(\"current dataset row: \"+ str(x))\n",
    "#         print(\"Errors \")\n",
    "#         print(errors)\n",
    "        errors[layerNumber][x] = derivative(weightedSums[layerNumber][x])* (target[currentDatasetRow][x] - nodes[layerNumber][x])\n",
    "        rowError=rowError+math.sqrt(math.pow(target[currentDatasetRow][x] - nodes[layerNumber][x],2))\n",
    "\n",
    "    rowError=rowError/numberOfLayerNodes[layerNumber]\n",
    "\n",
    "    for layerNumber in range(len(numberOfLayerNodes)-2, 0, -1):\n",
    "        for x in range(0, numberOfLayerNodes[layerNumber]):\n",
    "            errors[layerNumber][x] = 0\n",
    "            for nx in range(0, numberOfLayerNodes[layerNumber + 1]):\n",
    "                errors[layerNumber][x] = errors[layerNumber + 1][nx] * weights[layerNumber + 1][nx][x]\n",
    "            errors[layerNumber][x] = derivative(weightedSums[layerNumber][x]) * errors[layerNumber][x]\n",
    "\n",
    "    \n",
    "def backPropagate():\n",
    "    for layerNumber in range(1, len(numberOfLayerNodes)):\n",
    "        for x in range (0, numberOfLayerNodes[layerNumber]):\n",
    "            for px in range(0, numberOfLayerNodes[layerNumber - 1]):\n",
    "                weights[layerNumber][x][px] = weights[layerNumber][x][px] + learningCoeffitient * errors[layerNumber][x] * nodes[layerNumber - 1][px];\n",
    "    \n",
    "\n",
    "    \n",
    "def training(nEpochs):\n",
    "    global currentDatasetRow\n",
    "    epochError=0;\n",
    "    for epoch in range(0, nEpochs):\n",
    "        for y in range(0, len(trainingDataset)):\n",
    "            currentDatasetRow = y\n",
    "            nodes[0] = trainingDataset[y]\n",
    "            for layerNumber in range(1, len(numberOfLayerNodes)-1):\n",
    "                calculateHiddenLayer(layerNumber)\n",
    "\n",
    "            calculateOutput()\n",
    "            calculateErrors()\n",
    "            epochError=epochError+rowError\n",
    "            backPropagate()\n",
    "\n",
    "        epochError=epochError/nEpochs\n",
    "        print(\"Error on epoch: \"+str(epoch)+\" = \"+str(epochError))\n",
    "    \n",
    "    \n",
    "    \n",
    "def classify(row):\n",
    "    nodes[0] = row\n",
    "    for layerNumber in range(1, len(numberOfLayerNodes)):\n",
    "        calculateHiddenLayer(layerNumber)\n",
    "\n",
    "    calculateOutput()\n",
    "    \n",
    "    \n",
    "    \n",
    "print(\"-----------------------\")\n",
    "print(weights.shape)\n",
    "print(nodes.shape)\n",
    "print(weightedSums.shape)\n",
    "print(errors.shape)\n",
    "print(trainX.shape)\n",
    "print(trainY.shape)\n",
    "print(testX.shape)\n",
    "print(testY.shape)\n",
    "\n",
    "populateWeightsWithRandom()\n",
    "# print(weights)\n",
    "calculateHiddenLayer(2)\n",
    "\n",
    "training(10)\n",
    "    \n",
    "    \n"
   ]
  },
  {
   "cell_type": "code",
   "execution_count": 85,
   "metadata": {
    "collapsed": false
   },
   "outputs": [
    {
     "name": "stdout",
     "output_type": "stream",
     "text": [
      "Wall time: 0 ns\n",
      "10000\n",
      "Wall time: 0 ns\n"
     ]
    }
   ],
   "source": [
    "%time\n",
    "yyy=0\n",
    "for x in range(10000):\n",
    "    yyy=yyy+1\n",
    "    \n",
    "print(yyy)\n",
    "%time"
   ]
  },
  {
   "cell_type": "code",
   "execution_count": 86,
   "metadata": {
    "collapsed": true
   },
   "outputs": [],
   "source": [
    "class timeit():\n",
    "    from datetime import datetime\n",
    "    def __enter__(self):\n",
    "        self.tic = self.datetime.now()\n",
    "    def __exit__(self, *args, **kwargs):\n",
    "        print('runtime: {}'.format(self.datetime.now() - self.tic))"
   ]
  },
  {
   "cell_type": "code",
   "execution_count": 94,
   "metadata": {
    "collapsed": false
   },
   "outputs": [
    {
     "name": "stdout",
     "output_type": "stream",
     "text": [
      "runtime: 0:00:10.922140\n"
     ]
    }
   ],
   "source": [
    "with timeit():\n",
    "    y=0\n",
    "    for x in range(100000000):\n",
    "        y=y+1"
   ]
  },
  {
   "cell_type": "code",
   "execution_count": 96,
   "metadata": {
    "collapsed": false
   },
   "outputs": [
    {
     "name": "stdout",
     "output_type": "stream",
     "text": [
      "100000000\n"
     ]
    }
   ],
   "source": [
    "y=0\n",
    "for x in range(100000000):\n",
    "    y=y+1\n",
    "print(y)"
   ]
  },
  {
   "cell_type": "code",
   "execution_count": null,
   "metadata": {
    "collapsed": true
   },
   "outputs": [],
   "source": []
  },
  {
   "cell_type": "code",
   "execution_count": null,
   "metadata": {
    "collapsed": true
   },
   "outputs": [],
   "source": []
  },
  {
   "cell_type": "code",
   "execution_count": null,
   "metadata": {
    "collapsed": true
   },
   "outputs": [],
   "source": []
  },
  {
   "cell_type": "code",
   "execution_count": null,
   "metadata": {
    "collapsed": true
   },
   "outputs": [],
   "source": []
  },
  {
   "cell_type": "code",
   "execution_count": null,
   "metadata": {
    "collapsed": true
   },
   "outputs": [],
   "source": []
  },
  {
   "cell_type": "code",
   "execution_count": null,
   "metadata": {
    "collapsed": true
   },
   "outputs": [],
   "source": []
  },
  {
   "cell_type": "code",
   "execution_count": null,
   "metadata": {
    "collapsed": true
   },
   "outputs": [],
   "source": []
  },
  {
   "cell_type": "code",
   "execution_count": null,
   "metadata": {
    "collapsed": true
   },
   "outputs": [],
   "source": []
  },
  {
   "cell_type": "code",
   "execution_count": null,
   "metadata": {
    "collapsed": true
   },
   "outputs": [],
   "source": []
  },
  {
   "cell_type": "code",
   "execution_count": null,
   "metadata": {
    "collapsed": true
   },
   "outputs": [],
   "source": []
  },
  {
   "cell_type": "code",
   "execution_count": null,
   "metadata": {
    "collapsed": true
   },
   "outputs": [],
   "source": []
  },
  {
   "cell_type": "code",
   "execution_count": null,
   "metadata": {
    "collapsed": true
   },
   "outputs": [],
   "source": []
  },
  {
   "cell_type": "code",
   "execution_count": 79,
   "metadata": {
    "collapsed": true
   },
   "outputs": [],
   "source": [
    "%timeit"
   ]
  },
  {
   "cell_type": "code",
   "execution_count": null,
   "metadata": {
    "collapsed": true
   },
   "outputs": [],
   "source": []
  },
  {
   "cell_type": "code",
   "execution_count": null,
   "metadata": {
    "collapsed": true
   },
   "outputs": [],
   "source": []
  }
 ],
 "metadata": {
  "celltoolbar": "Raw Cell Format",
  "kernelspec": {
   "display_name": "Python 3",
   "language": "python",
   "name": "python3"
  },
  "language_info": {
   "codemirror_mode": {
    "name": "ipython",
    "version": 3
   },
   "file_extension": ".py",
   "mimetype": "text/x-python",
   "name": "python",
   "nbconvert_exporter": "python",
   "pygments_lexer": "ipython3",
   "version": "3.6.0"
  }
 },
 "nbformat": 4,
 "nbformat_minor": 2
}
