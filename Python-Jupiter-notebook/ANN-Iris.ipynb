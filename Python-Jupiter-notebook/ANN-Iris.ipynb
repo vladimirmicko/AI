{
 "cells": [
  {
   "cell_type": "code",
   "execution_count": 15,
   "metadata": {},
   "outputs": [
    {
     "name": "stdout",
     "output_type": "stream",
     "text": [
      "(3, 4, 4)\n",
      "(3,)\n",
      "(3,)\n",
      "(3,)\n",
      "(1797, 64)\n",
      "(1797,)\n",
      "(1797, 64)\n",
      "(1797,)\n"
     ]
    }
   ],
   "source": [
    "import matplotlib.pyplot as plt\n",
    "import numpy as np\n",
    "import sklearn as sk\n",
    "from sklearn.cluster import KMeans\n",
    "from matplotlib import pyplot as plt\n",
    "from sklearn.decomposition import PCA\n",
    "from sklearn.discriminant_analysis import LinearDiscriminantAnalysis\n",
    "from sklearn import datasets\n",
    "\n",
    "# Datasets definition\n",
    "# -------------------------------------------------------------------------------------------------------\n",
    "digits = datasets.load_digits()\n",
    "X_digits = digits.data\n",
    "Y_digits = digits.target\n",
    "\n",
    "indAll = np.arange(len(Y_digits))\n",
    "np.random.shuffle(indAll)\n",
    "\n",
    "testToTrainRatio = 0.8;\n",
    "trainX=X_digits[0:int(testToTrainRatio*len(indAll))]\n",
    "testX=X_digits[int(testToTrainRatio*len(indAll)):]\n",
    "trainY=Y_digits[0:int(testToTrainRatio*len(indAll))]\n",
    "testY=Y_digits[int(testToTrainRatio*len(indAll)):]\n",
    "\n",
    "trainX=X_digits\n",
    "trainY=Y_digits\n",
    "testX=X_digits\n",
    "testY=Y_digits\n",
    "\n",
    "numberOfLayerNodes=[4,4,4]\n",
    "learningCoeffitient=0.01\n",
    "\n",
    "weights = np.zeros((len(numberOfLayerNodes), np.amax(numberOfLayerNodes),np.amax(numberOfLayerNodes)))\n",
    "nodes = np.zeros(len(numberOfLayerNodes), np.amax(numberOfLayerNodes))\n",
    "weightedSums = np.zeros(len(numberOfLayerNodes), np.amax(numberOfLayerNodes))\n",
    "errors = np.zeros(len(numberOfLayerNodes), np.amax(numberOfLayerNodes))\n",
    "rowError = 0\n",
    "epochError = 0\n",
    "                 \n",
    "print(weights.shape)\n",
    "print(nodes.shape)\n",
    "print(weightedSums.shape)\n",
    "print(errors.shape)\n",
    "print(trainX.shape)\n",
    "print(trainY.shape)\n",
    "print(testX.shape)\n",
    "print(testY.shape)\n",
    "\n",
    "                 \n",
    "\n",
    "    \n",
    "    \n"
   ]
  },
  {
   "cell_type": "code",
   "execution_count": null,
   "metadata": {
    "collapsed": true
   },
   "outputs": [],
   "source": []
  },
  {
   "cell_type": "code",
   "execution_count": null,
   "metadata": {
    "collapsed": true
   },
   "outputs": [],
   "source": []
  },
  {
   "cell_type": "code",
   "execution_count": null,
   "metadata": {
    "collapsed": true
   },
   "outputs": [],
   "source": []
  },
  {
   "cell_type": "code",
   "execution_count": null,
   "metadata": {
    "collapsed": true
   },
   "outputs": [],
   "source": []
  },
  {
   "cell_type": "code",
   "execution_count": null,
   "metadata": {
    "collapsed": true
   },
   "outputs": [],
   "source": []
  },
  {
   "cell_type": "code",
   "execution_count": null,
   "metadata": {
    "collapsed": true
   },
   "outputs": [],
   "source": []
  },
  {
   "cell_type": "code",
   "execution_count": null,
   "metadata": {
    "collapsed": true
   },
   "outputs": [],
   "source": []
  },
  {
   "cell_type": "code",
   "execution_count": null,
   "metadata": {
    "collapsed": true
   },
   "outputs": [],
   "source": []
  },
  {
   "cell_type": "code",
   "execution_count": null,
   "metadata": {
    "collapsed": true
   },
   "outputs": [],
   "source": []
  },
  {
   "cell_type": "code",
   "execution_count": null,
   "metadata": {
    "collapsed": true
   },
   "outputs": [],
   "source": []
  },
  {
   "cell_type": "code",
   "execution_count": null,
   "metadata": {
    "collapsed": true
   },
   "outputs": [],
   "source": []
  },
  {
   "cell_type": "code",
   "execution_count": null,
   "metadata": {
    "collapsed": true
   },
   "outputs": [],
   "source": []
  },
  {
   "cell_type": "code",
   "execution_count": null,
   "metadata": {
    "collapsed": true
   },
   "outputs": [],
   "source": []
  },
  {
   "cell_type": "code",
   "execution_count": null,
   "metadata": {
    "collapsed": true
   },
   "outputs": [],
   "source": []
  },
  {
   "cell_type": "code",
   "execution_count": null,
   "metadata": {
    "collapsed": true
   },
   "outputs": [],
   "source": []
  },
  {
   "cell_type": "code",
   "execution_count": null,
   "metadata": {
    "collapsed": true
   },
   "outputs": [],
   "source": []
  }
 ],
 "metadata": {
  "kernelspec": {
   "display_name": "Python 3",
   "language": "python",
   "name": "python3"
  },
  "language_info": {
   "codemirror_mode": {
    "name": "ipython",
    "version": 3
   },
   "file_extension": ".py",
   "mimetype": "text/x-python",
   "name": "python",
   "nbconvert_exporter": "python",
   "pygments_lexer": "ipython3",
   "version": "3.6.3"
  }
 },
 "nbformat": 4,
 "nbformat_minor": 2
}
