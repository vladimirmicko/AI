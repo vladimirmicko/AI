{
 "cells": [
  {
   "cell_type": "code",
   "execution_count": 68,
   "metadata": {
    "collapsed": false
   },
   "outputs": [
    {
     "name": "stderr",
     "output_type": "stream",
     "text": [
      "D:\\Programs\\Anaconda3\\lib\\site-packages\\sklearn\\discriminant_analysis.py:455: UserWarning: The priors do not sum to 1. Renormalizing\n",
      "  UserWarning)\n",
      "D:\\Programs\\Anaconda3\\lib\\site-packages\\sklearn\\discriminant_analysis.py:387: UserWarning: Variables are collinear.\n",
      "  warnings.warn(\"Variables are collinear.\")\n"
     ]
    },
    {
     "data": {
      "image/png": "[encoded data removed]",
      "text/plain": [
       "<matplotlib.figure.Figure at 0x21052b76c18>"
      ]
     },
     "metadata": {},
     "output_type": "display_data"
    }
   ],
   "source": [
    "import numpy as np\n",
    "import scipy as sp\n",
    "import matplotlib.pyplot as plot\n",
    "from sklearn import datasets,cluster,neighbors,decomposition,discriminant_analysis\n",
    "\n",
    "digits=datasets.load_digits()\n",
    "data=digits.data\n",
    "target=digits.target\n",
    "\n",
    "seq=np.arange(len(target))\n",
    "np.random.shuffle(seq)\n",
    "\n",
    "train=seq[:int(0.8*len(target))]\n",
    "test=seq[int(0.8*len(target)):]\n",
    "\n",
    "lda=discriminant_analysis.LinearDiscriminantAnalysis()\n",
    "lda.fit(data[train],target[train])\n",
    "result=lda.predict(data[test])\n",
    "\n",
    "plot.stem(result-target[test])\n",
    "plot.show()\n"
   ]
  },
  {
   "cell_type": "code",
   "execution_count": null,
   "metadata": {
    "collapsed": true
   },
   "outputs": [],
   "source": []
  },
  {
   "cell_type": "code",
   "execution_count": null,
   "metadata": {
    "collapsed": true
   },
   "outputs": [],
   "source": []
  },
  {
   "cell_type": "code",
   "execution_count": 70,
   "metadata": {
    "collapsed": false
   },
   "outputs": [
    {
     "name": "stderr",
     "output_type": "stream",
     "text": [
      "D:\\Programs\\Anaconda3\\lib\\site-packages\\sklearn\\discriminant_analysis.py:387: UserWarning: Variables are collinear.\n",
      "  warnings.warn(\"Variables are collinear.\")\n"
     ]
    },
    {
     "data": {
      "image/png": "[encoded data removed]",
      "text/plain": [
       "<matplotlib.figure.Figure at 0x21054d0ef28>"
      ]
     },
     "metadata": {},
     "output_type": "display_data"
    }
   ],
   "source": [
    "import numpy as np\n",
    "import scipy as sp\n",
    "import matplotlib.pyplot as plot\n",
    "from sklearn import datasets,cluster,decomposition,neighbors,discriminant_analysis\n",
    "\n",
    "digits=datasets.load_digits()\n",
    "data=digits.data\n",
    "target=digits.target\n",
    "\n",
    "seq=np.arange(len(target))\n",
    "np.random.shuffle(seq)\n",
    "\n",
    "train=seq[:int(0.8*len(target))]\n",
    "test=seq[int(0.8*len(target)):]\n",
    "\n",
    "lda=discriminant_analysis.LinearDiscriminantAnalysis()\n",
    "lda.fit(data[train],target[train])\n",
    "result=lda.predict(data[test])\n",
    "\n",
    "plot.stem(result-target[test])\n",
    "plot.show()"
   ]
  },
  {
   "cell_type": "code",
   "execution_count": null,
   "metadata": {
    "collapsed": true
   },
   "outputs": [],
   "source": []
  },
  {
   "cell_type": "code",
   "execution_count": null,
   "metadata": {
    "collapsed": true
   },
   "outputs": [],
   "source": []
  },
  {
   "cell_type": "code",
   "execution_count": null,
   "metadata": {
    "collapsed": true
   },
   "outputs": [],
   "source": []
  },
  {
   "cell_type": "code",
   "execution_count": 94,
   "metadata": {
    "collapsed": false
   },
   "outputs": [
    {
     "data": {
      "image/png": "[encoded data removed]",
      "text/plain": [
       "<matplotlib.figure.Figure at 0x21054f8b048>"
      ]
     },
     "metadata": {},
     "output_type": "display_data"
    }
   ],
   "source": [
    "import numpy as np\n",
    "import scipy as sp\n",
    "import matplotlib.pyplot as plot\n",
    "from sklearn import datasets,cluster,neighbors,discriminant_analysis,decomposition\n",
    "\n",
    "iris=datasets.load_iris()\n",
    "data=iris.data\n",
    "target=iris.target\n",
    "\n",
    "all=np.vstack([data[:,0],data[:,1],target]).T\n",
    "np.random.shuffle(all)\n",
    "\n",
    "train=all[:int(0.8*len(target))]\n",
    "test=all[int(0.8*len(target)):]\n",
    "\n",
    "knn=neighbors.KNeighborsClassifier()\n",
    "knn.fit(train[:,:2],train[:,2])\n",
    "result=knn.predict(test[:,:2])\n",
    "\n",
    "xmin,xmax=test[:,0].min()-1,test[:,0].max()\n",
    "ymin,ymax=test[:,1].min()-1,test[:,1].max()\n",
    "\n",
    "h=0.01\n",
    "xx,yy=np.meshgrid(np.arange(xmin,xmax,h),np.arange(ymin,ymax,h))\n",
    "Z=knn.predict(np.c_[xx.ravel(),yy.ravel()])\n",
    "Z=Z.reshape(xx.shape)\n",
    "\n",
    "# plot.figure()\n",
    "plot.pcolormesh(xx,yy,Z)\n",
    "plot.xlim(xx.min(),xx.max())\n",
    "plot.ylim(yy.min(),yy.max())\n",
    "colors=[\"red\",\"green\",\"blue\"]\n",
    "for i,color in zip(range(0,3),colors):\n",
    "    plot.scatter(test[result==i,0],test[result==i,1])\n",
    "plot.show()"
   ]
  },
  {
   "cell_type": "code",
   "execution_count": null,
   "metadata": {
    "collapsed": true
   },
   "outputs": [],
   "source": []
  },
  {
   "cell_type": "code",
   "execution_count": null,
   "metadata": {
    "collapsed": true
   },
   "outputs": [],
   "source": []
  },
  {
   "cell_type": "code",
   "execution_count": null,
   "metadata": {
    "collapsed": true
   },
   "outputs": [],
   "source": []
  },
  {
   "cell_type": "code",
   "execution_count": null,
   "metadata": {
    "collapsed": true
   },
   "outputs": [],
   "source": [
    "# "
   ]
  },
  {
   "cell_type": "code",
   "execution_count": null,
   "metadata": {
    "collapsed": true
   },
   "outputs": [],
   "source": []
  },
  {
   "cell_type": "code",
   "execution_count": null,
   "metadata": {
    "collapsed": true
   },
   "outputs": [],
   "source": []
  },
  {
   "cell_type": "code",
   "execution_count": null,
   "metadata": {
    "collapsed": true
   },
   "outputs": [],
   "source": []
  },
  {
   "cell_type": "code",
   "execution_count": null,
   "metadata": {
    "collapsed": true
   },
   "outputs": [],
   "source": []
  },
  {
   "cell_type": "code",
   "execution_count": null,
   "metadata": {
    "collapsed": true
   },
   "outputs": [],
   "source": []
  },
  {
   "cell_type": "code",
   "execution_count": null,
   "metadata": {
    "collapsed": true
   },
   "outputs": [],
   "source": []
  },
  {
   "cell_type": "code",
   "execution_count": null,
   "metadata": {
    "collapsed": true
   },
   "outputs": [],
   "source": []
  },
  {
   "cell_type": "code",
   "execution_count": null,
   "metadata": {
    "collapsed": true
   },
   "outputs": [],
   "source": []
  },
  {
   "cell_type": "code",
   "execution_count": null,
   "metadata": {
    "collapsed": true
   },
   "outputs": [],
   "source": []
  },
  {
   "cell_type": "code",
   "execution_count": null,
   "metadata": {
    "collapsed": true
   },
   "outputs": [],
   "source": []
  },
  {
   "cell_type": "code",
   "execution_count": null,
   "metadata": {
    "collapsed": true
   },
   "outputs": [],
   "source": []
  }
 ],
 "metadata": {
  "kernelspec": {
   "display_name": "Python 3",
   "language": "python",
   "name": "python3"
  },
  "language_info": {
   "codemirror_mode": {
    "name": "ipython",
    "version": 3
   },
   "file_extension": ".py",
   "mimetype": "text/x-python",
   "name": "python",
   "nbconvert_exporter": "python",
   "pygments_lexer": "ipython3",
   "version": "3.6.0"
  }
 },
 "nbformat": 4,
 "nbformat_minor": 2
}
